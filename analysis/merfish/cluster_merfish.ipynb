{
 "cells": [
  {
   "cell_type": "code",
   "execution_count": 73,
   "id": "5367453a",
   "metadata": {},
   "outputs": [],
   "source": [
    "import numpy as np\n",
    "import anndata as ad\n",
    "import scanpy as sc\n",
    "data = np.load(\"/orcd/data/omarabu/001/tanush20/data/MERFISH/S1R1.npz\", allow_pickle=True)\n",
    "counts = data[\"counts\"]"
   ]
  },
  {
   "cell_type": "code",
   "execution_count": 74,
   "id": "4006ea86",
   "metadata": {},
   "outputs": [],
   "source": [
    "import pandas as pd\n",
    "ctp = pd.read_csv(\"/orcd/data/omarabu/001/tanush20/counting_flows_/MERFISH/outputs/S1R1_5/count_bridge.csv\", index_col=0)"
   ]
  },
  {
   "cell_type": "code",
   "execution_count": 75,
   "id": "19164566",
   "metadata": {},
   "outputs": [],
   "source": [
    "adata = ad.AnnData(counts)"
   ]
  },
  {
   "cell_type": "code",
   "execution_count": 76,
   "id": "151159e6",
   "metadata": {},
   "outputs": [],
   "source": [
    "adata.layers[\"counts\"] = adata.X.copy()\n",
    "sc.pp.normalize_total(adata)\n",
    "sc.pp.log1p(adata)"
   ]
  },
  {
   "cell_type": "code",
   "execution_count": null,
   "id": "c69765eb",
   "metadata": {},
   "outputs": [],
   "source": [
    "sc.tl.pca(adata)\n",
    "sc.pp.neighbors(adata)\n",
    "sc.tl.umap(adata)"
   ]
  },
  {
   "cell_type": "code",
   "execution_count": 9,
   "id": "47273ac5",
   "metadata": {},
   "outputs": [
    {
     "name": "stdout",
     "output_type": "stream",
     "text": [
      "Number of clusters: 5\n"
     ]
    }
   ],
   "source": [
    "resolution = 0.04\n",
    "sc.tl.leiden(adata, flavor=\"igraph\", n_iterations=2, resolution = resolution)\n",
    "num_clusters = len(np.unique(adata.obs['leiden']))\n",
    "print(f\"Number of clusters: {num_clusters}\")\n"
   ]
  },
  {
   "cell_type": "code",
   "execution_count": 13,
   "id": "d636ee72",
   "metadata": {},
   "outputs": [],
   "source": [
    "adata.obs['leiden_' + str(num_clusters)] = adata.obs['leiden']"
   ]
  },
  {
   "cell_type": "code",
   "execution_count": 12,
   "id": "7900650f",
   "metadata": {},
   "outputs": [
    {
     "name": "stdout",
     "output_type": "stream",
     "text": [
      "WARNING: saving figure to file figures/umapS1R1_leiden5.png\n"
     ]
    },
    {
     "data": {
      "text/plain": [
       "<Axes: title={'center': 'leiden'}, xlabel='UMAP1', ylabel='UMAP2'>"
      ]
     },
     "execution_count": 12,
     "metadata": {},
     "output_type": "execute_result"
    }
   ],
   "source": [
    "import matplotlib as mpl\n",
    "import os\n",
    "os.chdir(\"/orcd/data/omarabu/001/tanush20/data/MERFISH\")\n",
    "mpl.rcParams['figure.dpi'] = 300\n",
    "sc.pl.umap(adata, color=[\"leiden\"], save = \"S1R1_leiden\" + str(num_clusters) + \".png\", show=False)\n"
   ]
  },
  {
   "cell_type": "code",
   "execution_count": 27,
   "id": "8b01ca03",
   "metadata": {},
   "outputs": [
    {
     "name": "stdout",
     "output_type": "stream",
     "text": [
      "Number of clusters: 10\n"
     ]
    }
   ],
   "source": [
    "resolution = 0.0711\n",
    "sc.tl.leiden(adata, flavor=\"igraph\", n_iterations=2, resolution = resolution)\n",
    "num_clusters = len(np.unique(adata.obs['leiden']))\n",
    "print(f\"Number of clusters: {num_clusters}\")\n"
   ]
  },
  {
   "cell_type": "code",
   "execution_count": 28,
   "id": "1bfc0acb",
   "metadata": {},
   "outputs": [],
   "source": [
    "adata.obs['leiden_' + str(num_clusters)] = adata.obs['leiden']"
   ]
  },
  {
   "cell_type": "code",
   "execution_count": 29,
   "id": "f27314a0",
   "metadata": {},
   "outputs": [
    {
     "name": "stdout",
     "output_type": "stream",
     "text": [
      "WARNING: saving figure to file figures/umapS1R1_leiden10.png\n"
     ]
    },
    {
     "data": {
      "text/plain": [
       "<Axes: title={'center': 'leiden'}, xlabel='UMAP1', ylabel='UMAP2'>"
      ]
     },
     "execution_count": 29,
     "metadata": {},
     "output_type": "execute_result"
    }
   ],
   "source": [
    "import matplotlib as mpl\n",
    "import os\n",
    "os.chdir(\"/orcd/data/omarabu/001/tanush20/data/MERFISH\")\n",
    "mpl.rcParams['figure.dpi'] = 300\n",
    "sc.pl.umap(adata, color=[\"leiden\"], save = \"S1R1_leiden\" + str(num_clusters) + \".png\", show=False)\n"
   ]
  },
  {
   "cell_type": "code",
   "execution_count": 34,
   "id": "125f833e",
   "metadata": {},
   "outputs": [
    {
     "name": "stdout",
     "output_type": "stream",
     "text": [
      "Number of clusters: 15\n"
     ]
    }
   ],
   "source": [
    "resolution = 0.15\n",
    "sc.tl.leiden(adata, flavor=\"igraph\", n_iterations=2, resolution = resolution)\n",
    "num_clusters = len(np.unique(adata.obs['leiden']))\n",
    "print(f\"Number of clusters: {num_clusters}\")\n"
   ]
  },
  {
   "cell_type": "code",
   "execution_count": 35,
   "id": "93b2785a",
   "metadata": {},
   "outputs": [],
   "source": [
    "adata.obs['leiden_' + str(num_clusters)] = adata.obs['leiden']"
   ]
  },
  {
   "cell_type": "code",
   "execution_count": 36,
   "id": "e8b6d65d",
   "metadata": {},
   "outputs": [
    {
     "name": "stdout",
     "output_type": "stream",
     "text": [
      "WARNING: saving figure to file figures/umapS1R1_leiden15.png\n"
     ]
    },
    {
     "data": {
      "text/plain": [
       "<Axes: title={'center': 'leiden'}, xlabel='UMAP1', ylabel='UMAP2'>"
      ]
     },
     "execution_count": 36,
     "metadata": {},
     "output_type": "execute_result"
    }
   ],
   "source": [
    "import matplotlib as mpl\n",
    "import os\n",
    "os.chdir(\"/orcd/data/omarabu/001/tanush20/data/MERFISH\")\n",
    "mpl.rcParams['figure.dpi'] = 300\n",
    "sc.pl.umap(adata, color=[\"leiden\"], save = \"S1R1_leiden\" + str(num_clusters) + \".png\", show=False)\n"
   ]
  },
  {
   "cell_type": "code",
   "execution_count": 42,
   "id": "37fadf70",
   "metadata": {},
   "outputs": [
    {
     "name": "stdout",
     "output_type": "stream",
     "text": [
      "Number of clusters: 20\n"
     ]
    }
   ],
   "source": [
    "resolution = 0.345\n",
    "sc.tl.leiden(adata, flavor=\"igraph\", n_iterations=2, resolution = resolution)\n",
    "num_clusters = len(np.unique(adata.obs['leiden']))\n",
    "print(f\"Number of clusters: {num_clusters}\")\n"
   ]
  },
  {
   "cell_type": "code",
   "execution_count": 43,
   "id": "6ba486e7",
   "metadata": {},
   "outputs": [],
   "source": [
    "adata.obs['leiden_' + str(num_clusters)] = adata.obs['leiden']"
   ]
  },
  {
   "cell_type": "code",
   "execution_count": 44,
   "id": "c9041ef1",
   "metadata": {},
   "outputs": [
    {
     "name": "stdout",
     "output_type": "stream",
     "text": [
      "WARNING: saving figure to file figures/umapS1R1_leiden20.png\n"
     ]
    },
    {
     "data": {
      "text/plain": [
       "<Axes: title={'center': 'leiden'}, xlabel='UMAP1', ylabel='UMAP2'>"
      ]
     },
     "execution_count": 44,
     "metadata": {},
     "output_type": "execute_result"
    }
   ],
   "source": [
    "import matplotlib as mpl\n",
    "import os\n",
    "os.chdir(\"/orcd/data/omarabu/001/tanush20/data/MERFISH\")\n",
    "mpl.rcParams['figure.dpi'] = 300\n",
    "sc.pl.umap(adata, color=[\"leiden\"], save = \"S1R1_leiden\" + str(num_clusters) + \".png\", show=False)\n"
   ]
  },
  {
   "cell_type": "code",
   "execution_count": 49,
   "id": "371e9b84",
   "metadata": {},
   "outputs": [
    {
     "name": "stdout",
     "output_type": "stream",
     "text": [
      "Number of clusters: 25\n"
     ]
    }
   ],
   "source": [
    "resolution = 0.59\n",
    "sc.tl.leiden(adata, flavor=\"igraph\", n_iterations=2, resolution = resolution)\n",
    "num_clusters = len(np.unique(adata.obs['leiden']))\n",
    "print(f\"Number of clusters: {num_clusters}\")\n"
   ]
  },
  {
   "cell_type": "code",
   "execution_count": 50,
   "id": "fa4ce89e",
   "metadata": {},
   "outputs": [],
   "source": [
    "adata.obs['leiden_' + str(num_clusters)] = adata.obs['leiden']"
   ]
  },
  {
   "cell_type": "code",
   "execution_count": 51,
   "id": "debfa2dd",
   "metadata": {},
   "outputs": [
    {
     "name": "stdout",
     "output_type": "stream",
     "text": [
      "WARNING: saving figure to file figures/umapS1R1_leiden25.png\n"
     ]
    },
    {
     "data": {
      "text/plain": [
       "<Axes: title={'center': 'leiden'}, xlabel='UMAP1', ylabel='UMAP2'>"
      ]
     },
     "execution_count": 51,
     "metadata": {},
     "output_type": "execute_result"
    }
   ],
   "source": [
    "import matplotlib as mpl\n",
    "import os\n",
    "os.chdir(\"/orcd/data/omarabu/001/tanush20/data/MERFISH\")\n",
    "mpl.rcParams['figure.dpi'] = 300\n",
    "sc.pl.umap(adata, color=[\"leiden\"], save = \"S1R1_leiden\" + str(num_clusters) + \".png\", show=False)\n"
   ]
  },
  {
   "cell_type": "code",
   "execution_count": 55,
   "id": "ab1cf5f1",
   "metadata": {},
   "outputs": [
    {
     "name": "stdout",
     "output_type": "stream",
     "text": [
      "Number of clusters: 30\n"
     ]
    }
   ],
   "source": [
    "resolution = 0.77\n",
    "sc.tl.leiden(adata, flavor=\"igraph\", n_iterations=2, resolution = resolution)\n",
    "num_clusters = len(np.unique(adata.obs['leiden']))\n",
    "print(f\"Number of clusters: {num_clusters}\")\n"
   ]
  },
  {
   "cell_type": "code",
   "execution_count": 56,
   "id": "aaac7b87",
   "metadata": {},
   "outputs": [],
   "source": [
    "adata.obs['leiden_' + str(num_clusters)] = adata.obs['leiden']"
   ]
  },
  {
   "cell_type": "code",
   "execution_count": 57,
   "id": "6d6f7a11",
   "metadata": {},
   "outputs": [
    {
     "name": "stdout",
     "output_type": "stream",
     "text": [
      "WARNING: saving figure to file figures/umapS1R1_leiden30.png\n"
     ]
    },
    {
     "data": {
      "text/plain": [
       "<Axes: title={'center': 'leiden'}, xlabel='UMAP1', ylabel='UMAP2'>"
      ]
     },
     "execution_count": 57,
     "metadata": {},
     "output_type": "execute_result"
    }
   ],
   "source": [
    "import matplotlib as mpl\n",
    "import os\n",
    "os.chdir(\"/orcd/data/omarabu/001/tanush20/data/MERFISH\")\n",
    "mpl.rcParams['figure.dpi'] = 300\n",
    "sc.pl.umap(adata, color=[\"leiden\"], save = \"S1R1_leiden\" + str(num_clusters) + \".png\", show=False)\n"
   ]
  },
  {
   "cell_type": "code",
   "execution_count": 58,
   "id": "0bc7a8d6",
   "metadata": {},
   "outputs": [
    {
     "name": "stdout",
     "output_type": "stream",
     "text": [
      "Number of clusters: 35\n"
     ]
    }
   ],
   "source": [
    "resolution = 1.0\n",
    "sc.tl.leiden(adata, flavor=\"igraph\", n_iterations=2, resolution = resolution)\n",
    "num_clusters = len(np.unique(adata.obs['leiden']))\n",
    "print(f\"Number of clusters: {num_clusters}\")\n"
   ]
  },
  {
   "cell_type": "code",
   "execution_count": 59,
   "id": "26554ea9",
   "metadata": {},
   "outputs": [],
   "source": [
    "adata.obs['leiden_' + str(num_clusters)] = adata.obs['leiden']"
   ]
  },
  {
   "cell_type": "code",
   "execution_count": 60,
   "id": "afdc2402",
   "metadata": {},
   "outputs": [
    {
     "name": "stdout",
     "output_type": "stream",
     "text": [
      "WARNING: saving figure to file figures/umapS1R1_leiden35.png\n"
     ]
    },
    {
     "data": {
      "text/plain": [
       "<Axes: title={'center': 'leiden'}, xlabel='UMAP1', ylabel='UMAP2'>"
      ]
     },
     "execution_count": 60,
     "metadata": {},
     "output_type": "execute_result"
    }
   ],
   "source": [
    "import matplotlib as mpl\n",
    "import os\n",
    "os.chdir(\"/orcd/data/omarabu/001/tanush20/data/MERFISH\")\n",
    "mpl.rcParams['figure.dpi'] = 300\n",
    "sc.pl.umap(adata, color=[\"leiden\"], save = \"S1R1_leiden\" + str(num_clusters) + \".png\", show=False)\n"
   ]
  },
  {
   "cell_type": "code",
   "execution_count": 61,
   "id": "afc328b6",
   "metadata": {},
   "outputs": [
    {
     "data": {
      "text/html": [
       "<div>\n",
       "<style scoped>\n",
       "    .dataframe tbody tr th:only-of-type {\n",
       "        vertical-align: middle;\n",
       "    }\n",
       "\n",
       "    .dataframe tbody tr th {\n",
       "        vertical-align: top;\n",
       "    }\n",
       "\n",
       "    .dataframe thead th {\n",
       "        text-align: right;\n",
       "    }\n",
       "</style>\n",
       "<table border=\"1\" class=\"dataframe\">\n",
       "  <thead>\n",
       "    <tr style=\"text-align: right;\">\n",
       "      <th></th>\n",
       "      <th>leiden</th>\n",
       "      <th>leiden_0.04</th>\n",
       "      <th>leiden_5</th>\n",
       "      <th>leiden_10</th>\n",
       "      <th>leiden_15</th>\n",
       "      <th>leiden_20</th>\n",
       "      <th>leiden_25</th>\n",
       "      <th>leiden_30</th>\n",
       "      <th>leiden_35</th>\n",
       "    </tr>\n",
       "  </thead>\n",
       "  <tbody>\n",
       "    <tr>\n",
       "      <th>0</th>\n",
       "      <td>0</td>\n",
       "      <td>0</td>\n",
       "      <td>0</td>\n",
       "      <td>0</td>\n",
       "      <td>0</td>\n",
       "      <td>0</td>\n",
       "      <td>0</td>\n",
       "      <td>0</td>\n",
       "      <td>0</td>\n",
       "    </tr>\n",
       "    <tr>\n",
       "      <th>1</th>\n",
       "      <td>1</td>\n",
       "      <td>0</td>\n",
       "      <td>0</td>\n",
       "      <td>0</td>\n",
       "      <td>0</td>\n",
       "      <td>0</td>\n",
       "      <td>1</td>\n",
       "      <td>1</td>\n",
       "      <td>1</td>\n",
       "    </tr>\n",
       "    <tr>\n",
       "      <th>2</th>\n",
       "      <td>2</td>\n",
       "      <td>1</td>\n",
       "      <td>1</td>\n",
       "      <td>1</td>\n",
       "      <td>2</td>\n",
       "      <td>5</td>\n",
       "      <td>6</td>\n",
       "      <td>5</td>\n",
       "      <td>2</td>\n",
       "    </tr>\n",
       "    <tr>\n",
       "      <th>3</th>\n",
       "      <td>6</td>\n",
       "      <td>1</td>\n",
       "      <td>1</td>\n",
       "      <td>2</td>\n",
       "      <td>4</td>\n",
       "      <td>1</td>\n",
       "      <td>9</td>\n",
       "      <td>6</td>\n",
       "      <td>6</td>\n",
       "    </tr>\n",
       "    <tr>\n",
       "      <th>4</th>\n",
       "      <td>7</td>\n",
       "      <td>2</td>\n",
       "      <td>2</td>\n",
       "      <td>4</td>\n",
       "      <td>6</td>\n",
       "      <td>8</td>\n",
       "      <td>11</td>\n",
       "      <td>10</td>\n",
       "      <td>7</td>\n",
       "    </tr>\n",
       "    <tr>\n",
       "      <th>...</th>\n",
       "      <td>...</td>\n",
       "      <td>...</td>\n",
       "      <td>...</td>\n",
       "      <td>...</td>\n",
       "      <td>...</td>\n",
       "      <td>...</td>\n",
       "      <td>...</td>\n",
       "      <td>...</td>\n",
       "      <td>...</td>\n",
       "    </tr>\n",
       "    <tr>\n",
       "      <th>78324</th>\n",
       "      <td>24</td>\n",
       "      <td>4</td>\n",
       "      <td>4</td>\n",
       "      <td>8</td>\n",
       "      <td>10</td>\n",
       "      <td>17</td>\n",
       "      <td>18</td>\n",
       "      <td>24</td>\n",
       "      <td>24</td>\n",
       "    </tr>\n",
       "    <tr>\n",
       "      <th>78325</th>\n",
       "      <td>12</td>\n",
       "      <td>1</td>\n",
       "      <td>1</td>\n",
       "      <td>5</td>\n",
       "      <td>3</td>\n",
       "      <td>6</td>\n",
       "      <td>8</td>\n",
       "      <td>9</td>\n",
       "      <td>12</td>\n",
       "    </tr>\n",
       "    <tr>\n",
       "      <th>78326</th>\n",
       "      <td>7</td>\n",
       "      <td>2</td>\n",
       "      <td>2</td>\n",
       "      <td>4</td>\n",
       "      <td>6</td>\n",
       "      <td>8</td>\n",
       "      <td>11</td>\n",
       "      <td>10</td>\n",
       "      <td>7</td>\n",
       "    </tr>\n",
       "    <tr>\n",
       "      <th>78327</th>\n",
       "      <td>14</td>\n",
       "      <td>0</td>\n",
       "      <td>0</td>\n",
       "      <td>7</td>\n",
       "      <td>1</td>\n",
       "      <td>15</td>\n",
       "      <td>3</td>\n",
       "      <td>3</td>\n",
       "      <td>14</td>\n",
       "    </tr>\n",
       "    <tr>\n",
       "      <th>78328</th>\n",
       "      <td>15</td>\n",
       "      <td>2</td>\n",
       "      <td>2</td>\n",
       "      <td>6</td>\n",
       "      <td>5</td>\n",
       "      <td>12</td>\n",
       "      <td>15</td>\n",
       "      <td>22</td>\n",
       "      <td>15</td>\n",
       "    </tr>\n",
       "  </tbody>\n",
       "</table>\n",
       "<p>78329 rows × 9 columns</p>\n",
       "</div>"
      ],
      "text/plain": [
       "      leiden leiden_0.04 leiden_5 leiden_10 leiden_15 leiden_20 leiden_25  \\\n",
       "0          0           0        0         0         0         0         0   \n",
       "1          1           0        0         0         0         0         1   \n",
       "2          2           1        1         1         2         5         6   \n",
       "3          6           1        1         2         4         1         9   \n",
       "4          7           2        2         4         6         8        11   \n",
       "...      ...         ...      ...       ...       ...       ...       ...   \n",
       "78324     24           4        4         8        10        17        18   \n",
       "78325     12           1        1         5         3         6         8   \n",
       "78326      7           2        2         4         6         8        11   \n",
       "78327     14           0        0         7         1        15         3   \n",
       "78328     15           2        2         6         5        12        15   \n",
       "\n",
       "      leiden_30 leiden_35  \n",
       "0             0         0  \n",
       "1             1         1  \n",
       "2             5         2  \n",
       "3             6         6  \n",
       "4            10         7  \n",
       "...         ...       ...  \n",
       "78324        24        24  \n",
       "78325         9        12  \n",
       "78326        10         7  \n",
       "78327         3        14  \n",
       "78328        22        15  \n",
       "\n",
       "[78329 rows x 9 columns]"
      ]
     },
     "execution_count": 61,
     "metadata": {},
     "output_type": "execute_result"
    }
   ],
   "source": [
    "adata.obs"
   ]
  },
  {
   "cell_type": "code",
   "execution_count": 62,
   "id": "7379b9a4",
   "metadata": {},
   "outputs": [
    {
     "name": "stdout",
     "output_type": "stream",
     "text": [
      "Loading counts data into memory...\n",
      "Loaded counts data in 0.33 seconds\n",
      "Using 24 cores for parallel processing\n",
      "Processing 4358 spots with 649 genes and 35 cell types\n"
     ]
    },
    {
     "name": "stderr",
     "output_type": "stream",
     "text": [
      "Processing spots: 100%|█████████████████████████████████████████████████| 4358/4358 [40:34<00:00,  1.79it/s]"
     ]
    },
    {
     "name": "stdout",
     "output_type": "stream",
     "text": [
      "Processed 4358 spots in 2434.80 seconds\n",
      "Average time per spot: 0.5587 seconds\n"
     ]
    },
    {
     "name": "stderr",
     "output_type": "stream",
     "text": [
      "\n"
     ]
    }
   ],
   "source": [
    "from multiprocessing import Pool, cpu_count\n",
    "from tqdm import tqdm\n",
    "import time\n",
    "\n",
    "cell_type_nums = [5,10,15,20,25,30,35]\n",
    "\n",
    "def process_spot(args):\n",
    "    \"\"\"Process a single spot to aggregate cell counts and cell type counts\"\"\"\n",
    "    i, cell_ids, counts, annotations = args\n",
    "    spot_counts = np.zeros(counts.shape[1])\n",
    "    cell_type_counts = {}\n",
    "    for key in annotations.keys():\n",
    "        cell_type_counts[key] = np.zeros(len(np.unique(annotations[key])))\n",
    "    \n",
    "    for cell_id in cell_ids:\n",
    "        spot_counts += counts[cell_id, :]\n",
    "        for key in annotations.keys():\n",
    "            cell_type_counts[key][annotations[key][cell_id]] += 1\n",
    "    \n",
    "    return i, len(cell_ids), spot_counts, cell_type_counts\n",
    "\n",
    "# Get number of cell types\n",
    "n_celltypes = len(np.unique(adata.obs['leiden']))\n",
    "\n",
    "# Parallelize the processing\n",
    "n_spots = len(data['spots'])\n",
    "n_genes = data['counts'].shape[1]\n",
    "visium_simulated = np.zeros((n_spots, n_genes))\n",
    "cell_type_counts = {}\n",
    "annotations = {}\n",
    "for cell_type_num in cell_type_nums:\n",
    "    cell_type_counts[cell_type_num] = np.zeros((n_spots, cell_type_num))\n",
    "    annotations[cell_type_num] = adata.obs['leiden_' + str(cell_type_num)].values.astype(int)\n",
    "n_cells = [0] * n_spots\n",
    "\n",
    "# Load data into memory first to avoid .npz file I/O overhead\n",
    "print(\"Loading counts data into memory...\")\n",
    "load_start = time.time()\n",
    "counts_array = data['counts'][:]  # Force load into memory\n",
    "load_time = time.time() - load_start\n",
    "print(f\"Loaded counts data in {load_time:.2f} seconds\")\n",
    "\n",
    "# Prepare arguments for parallel processing\n",
    "args_list = [(i, cell_ids, counts_array, annotations) for i, cell_ids in enumerate(data['spots'])]\n",
    "\n",
    "# Use multiprocessing to parallelize\n",
    "n_cores = 24\n",
    "print(f\"Using {n_cores} cores for parallel processing\")\n",
    "print(f\"Processing {n_spots} spots with {n_genes} genes and {n_celltypes} cell types\")\n",
    "\n",
    "start_time = time.time()\n",
    "\n",
    "with Pool(n_cores) as pool:\n",
    "    # Use imap for progress tracking\n",
    "    results = list(tqdm(pool.imap(process_spot, args_list), \n",
    "                       total=n_spots, \n",
    "                       desc=\"Processing spots\"))\n",
    "\n",
    "# Collect results\n",
    "for i, cell_count, spot_counts, spot_cell_type_counts in results:\n",
    "    n_cells[i] = cell_count\n",
    "    visium_simulated[i, :] = spot_counts\n",
    "    for key in spot_cell_type_counts.keys():\n",
    "        cell_type_counts[key][i, :] = spot_cell_type_counts[key]\n",
    "\n",
    "end_time = time.time()\n",
    "print(f\"Processed {n_spots} spots in {end_time - start_time:.2f} seconds\")\n",
    "print(f\"Average time per spot: {(end_time - start_time) / n_spots:.4f} seconds\")\n"
   ]
  },
  {
   "cell_type": "code",
   "execution_count": 95,
   "id": "cc282a7a",
   "metadata": {},
   "outputs": [],
   "source": [
    "\n",
    "np.savez(\"/orcd/data/omarabu/001/tanush20/data/MERFISH/S1R1_pca_30.npz\",\n",
    "        imgs = data['imgs'],\n",
    "        counts = data['counts'],\n",
    "        spots =  data['spots'],\n",
    "        x_um = data['x_um'],\n",
    "        y_um = data['y_um'],\n",
    "        annotations = annotations,\n",
    "        visium_simulated = data['visium_simulated'],\n",
    "        cell_type_counts = data['cell_type_counts'],\n",
    "        n_cells = data['n_cells'])"
   ]
  },
  {
   "cell_type": "code",
   "execution_count": 71,
   "id": "c4d02861",
   "metadata": {},
   "outputs": [],
   "source": [
    "import pandas as pd\n",
    "simulated_df = pd.DataFrame(visium_simulated)\n",
    "simulated_df.to_csv(\"/orcd/data/omarabu/001/tanush20/data/MERFISH/S1R1/simulated.csv\")"
   ]
  },
  {
   "cell_type": "code",
   "execution_count": 72,
   "id": "1e8b9f27",
   "metadata": {},
   "outputs": [],
   "source": [
    "for key in annotations.keys():\n",
    "    leiden_df = pd.DataFrame(annotations[key])\n",
    "    leiden_df.to_csv(\"/orcd/data/omarabu/001/tanush20/data/MERFISH/S1R1/leiden_\" + str(key) + \".csv\")"
   ]
  },
  {
   "cell_type": "code",
   "execution_count": 78,
   "id": "d719d649",
   "metadata": {},
   "outputs": [],
   "source": [
    "coords_df = pd.DataFrame([data['x_um'], data['y_um']])\n",
    "coords_df = coords_df.T\n",
    "coords_df.columns = ['x_um', 'y_um']\n",
    "coords_df.to_csv(\"/orcd/data/omarabu/001/tanush20/data/MERFISH/S1R1/coords.csv\")"
   ]
  },
  {
   "cell_type": "code",
   "execution_count": 81,
   "id": "cd38db99",
   "metadata": {},
   "outputs": [],
   "source": [
    "sc_counts = pd.DataFrame(data['counts'])\n",
    "sc_counts.to_csv(\"/orcd/data/omarabu/001/tanush20/data/MERFISH/S1R1/sc_counts.csv\")\n"
   ]
  },
  {
   "cell_type": "code",
   "execution_count": null,
   "id": "2d6db811",
   "metadata": {},
   "outputs": [],
   "source": []
  },
  {
   "cell_type": "code",
   "execution_count": 3,
   "id": "909f6de5",
   "metadata": {},
   "outputs": [],
   "source": [
    "adata.layers[\"counts\"] = adata.X.copy()\n",
    "sc.tl.pca(adata)\n",
    "sc.pp.neighbors(adata)\n",
    "sc.tl.umap(adata)"
   ]
  },
  {
   "cell_type": "code",
   "execution_count": 86,
   "id": "6fcebf3f",
   "metadata": {},
   "outputs": [
    {
     "name": "stdout",
     "output_type": "stream",
     "text": [
      "Number of clusters: 35\n"
     ]
    }
   ],
   "source": [
    "resolution = 1.0\n",
    "sc.tl.leiden(adata, flavor=\"igraph\", n_iterations=2, resolution = resolution)\n",
    "num_clusters = len(np.unique(adata.obs['leiden']))\n",
    "print(f\"Number of clusters: {num_clusters}\")\n"
   ]
  },
  {
   "cell_type": "code",
   "execution_count": 87,
   "id": "3652fffe",
   "metadata": {},
   "outputs": [],
   "source": [
    "adata.obs['leiden_' + str(num_clusters)] = adata.obs['leiden']"
   ]
  },
  {
   "cell_type": "code",
   "execution_count": 80,
   "id": "92a8c21e",
   "metadata": {},
   "outputs": [],
   "source": [
    "annotations_k = adata.obs['leiden_' + str(num_clusters)]"
   ]
  },
  {
   "cell_type": "code",
   "execution_count": 90,
   "id": "2d1d6f25",
   "metadata": {},
   "outputs": [
    {
     "name": "stderr",
     "output_type": "stream",
     "text": [
      "/tmp/ipykernel_1319505/366541592.py:10: FutureWarning: Series.__getitem__ treating keys as positions is deprecated. In a future version, integer keys will always be treated as labels (consistent with DataFrame behavior). To access a value by position, use `ser.iloc[pos]`\n",
      "  labels = annotations_k[np.asarray(cell_ids, dtype=int)]\n"
     ]
    }
   ],
   "source": [
    "import numpy as np\n",
    "num_celltypes = 35\n",
    "n_spots = len(data['spots'])\n",
    "cell_type_counts = np.zeros((n_spots, num_celltypes), dtype=int)\n",
    "n_cells_per_spot = np.zeros(n_spots, dtype=int)\n",
    "\n",
    "for i, cell_ids in enumerate(data['spots']):\n",
    "    if len(cell_ids) == 0:\n",
    "        continue\n",
    "    labels = annotations_k[np.asarray(cell_ids, dtype=int)]\n",
    "    counts = np.bincount(labels, minlength=num_celltypes)\n",
    "    cell_type_counts[i, :] = counts[:num_celltypes]\n",
    "    n_cells_per_spot[i] = len(cell_ids)"
   ]
  },
  {
   "cell_type": "code",
   "execution_count": 91,
   "id": "2a4bc60a",
   "metadata": {},
   "outputs": [],
   "source": [
    "import pandas as pd\n",
    "cell_type_counts = pd.DataFrame(cell_type_counts)\n",
    "cell_type_counts = cell_type_counts / n_cells_per_spot[:, None]"
   ]
  },
  {
   "cell_type": "code",
   "execution_count": 92,
   "id": "0247ae73",
   "metadata": {},
   "outputs": [],
   "source": [
    "cell_type_counts.to_csv(\"/orcd/data/omarabu/001/tanush20/counting_flows_/MERFISH/CTP/pca_30_35.csv\")"
   ]
  },
  {
   "cell_type": "code",
   "execution_count": 93,
   "id": "cc56e9b8",
   "metadata": {},
   "outputs": [],
   "source": [
    "#annotations = {}\n",
    "annotations[35] = adata.obs['leiden_' + str(35)].values.astype(int)"
   ]
  },
  {
   "cell_type": "code",
   "execution_count": 94,
   "id": "da7cdce3",
   "metadata": {},
   "outputs": [
    {
     "data": {
      "text/plain": [
       "{5: array([0, 0, 1, ..., 2, 0, 2]), 35: array([ 0,  2,  6, ..., 11, 20,  5])}"
      ]
     },
     "execution_count": 94,
     "metadata": {},
     "output_type": "execute_result"
    }
   ],
   "source": [
    "annotations"
   ]
  }
 ],
 "metadata": {
  "kernelspec": {
   "display_name": "Cell types 3",
   "language": "python",
   "name": "cell-types-3"
  },
  "language_info": {
   "codemirror_mode": {
    "name": "ipython",
    "version": 3
   },
   "file_extension": ".py",
   "mimetype": "text/x-python",
   "name": "python",
   "nbconvert_exporter": "python",
   "pygments_lexer": "ipython3",
   "version": "3.10.16"
  }
 },
 "nbformat": 4,
 "nbformat_minor": 5
}
