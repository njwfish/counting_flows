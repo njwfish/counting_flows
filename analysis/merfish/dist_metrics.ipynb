{
 "cells": [
  {
   "cell_type": "code",
   "execution_count": 1,
   "id": "ea0c80ce",
   "metadata": {},
   "outputs": [],
   "source": [
    "import numpy as np\n",
    "import pickle as pkl\n",
    "import torch\n"
   ]
  },
  {
   "cell_type": "code",
   "execution_count": 2,
   "id": "fe6380f1",
   "metadata": {},
   "outputs": [],
   "source": [
    "s1 = np.load('/orcd/data/omarabu/001/tanush20/data/MERFISH/S1R1.npz', allow_pickle=True)\n",
    "with open('/orcd/data/omarabu/001/njwfish/counting_flows/results/merfish/x_0_generated_new.pkl', 'rb') as f:\n",
    "    predicted_counts = pkl.load(f)\n",
    "combined_predicted_counts = torch.vstack(predicted_counts)\n"
   ]
  },
  {
   "cell_type": "code",
   "execution_count": 3,
   "id": "10c84287",
   "metadata": {},
   "outputs": [
    {
     "name": "stdout",
     "output_type": "stream",
     "text": [
      "Converting predicted counts to s1 format...\n",
      "Created 4358 spots\n",
      "Total cells: 73613\n",
      "Combined predicted counts shape: torch.Size([157669, 649])\n",
      "\n",
      "Verification:\n",
      "Original spots[0]: [30684 30690 30692 30693 30698]... (length: 5)\n",
      "New spots[0]: [0 1 2 3 4]... (length: 5)\n",
      "Original spots[1]: [30683 30688 30694 30697 30699]... (length: 11)\n",
      "New spots[1]: [5 6 7 8 9]... (length: 11)\n"
     ]
    }
   ],
   "source": [
    "# Convert predicted counts to s1 format\n",
    "print(\"Converting predicted counts to s1 format...\")\n",
    "\n",
    "# Get the original spots structure from s1\n",
    "imgs = s1['imgs'][:]\n",
    "original_spots = s1['spots']\n",
    "n_spots = len(original_spots)\n",
    "\n",
    "# Create new spots array with consecutive indices\n",
    "new_spots = []\n",
    "current_index = 0\n",
    "cells_to_remove = []\n",
    "total_cells = 0\n",
    "for i in range(n_spots):\n",
    "    # Get number of cells in this spot from original data\n",
    "    num_cells_in_spot = 0\n",
    "    for cell in original_spots[i]:\n",
    "        if max(imgs[cell].shape)>256:\n",
    "            cells_to_remove.append(cell)\n",
    "        else:\n",
    "            num_cells_in_spot += 1\n",
    "    total_cells += num_cells_in_spot\n",
    "            \n",
    "    # Create array of consecutive indices for this spot\n",
    "    spot_indices = np.arange(current_index, current_index + num_cells_in_spot)\n",
    "    new_spots.append(spot_indices)\n",
    "    \n",
    "    # Update current index for next spot\n",
    "    current_index += num_cells_in_spot\n",
    "\n",
    "print(f\"Created {len(new_spots)} spots\")\n",
    "print(f\"Total cells: {current_index}\")\n",
    "print(f\"Combined predicted counts shape: {combined_predicted_counts.shape}\")\n",
    "\n",
    "# Verify the conversion\n",
    "print(\"\\nVerification:\")\n",
    "print(f\"Original spots[0]: {original_spots[0][:5]}... (length: {len(original_spots[0])})\")\n",
    "print(f\"New spots[0]: {new_spots[0][:5]}... (length: {len(new_spots[0])})\")\n",
    "print(f\"Original spots[1]: {original_spots[1][:5]}... (length: {len(original_spots[1])})\")\n",
    "print(f\"New spots[1]: {new_spots[1][:5]}... (length: {len(new_spots[1])})\")\n"
   ]
  },
  {
   "cell_type": "code",
   "execution_count": 4,
   "id": "c493ef0e",
   "metadata": {},
   "outputs": [
    {
     "name": "stdout",
     "output_type": "stream",
     "text": [
      "Created predicted_s1_format with keys: ['predicted_counts', 'spots', 'imgs', 'x_um', 'y_um']\n",
      "Counts shape: (73613, 649)\n",
      "Number of spots: 4358\n"
     ]
    }
   ],
   "source": [
    "# Convert torch tensor to numpy if needed\n",
    "if isinstance(combined_predicted_counts, torch.Tensor):\n",
    "    combined_predicted_counts_np = combined_predicted_counts.cpu().numpy()\n",
    "else:\n",
    "    combined_predicted_counts_np = combined_predicted_counts\n",
    "combined_predicted_counts_np = combined_predicted_counts_np[:total_cells]\n",
    "# Create the new data structure in s1 format\n",
    "predicted_s1_format = {\n",
    "    'predicted_counts': combined_predicted_counts_np,  # Combined counts matrix\n",
    "    'spots': new_spots,  # List of arrays with cell indices for each spot\n",
    "    'imgs': s1['imgs'],  # Copy other fields from original s1\n",
    "    'x_um': s1['x_um'],\n",
    "    'y_um': s1['y_um']\n",
    "}\n",
    "\n",
    "print(\"Created predicted_s1_format with keys:\", list(predicted_s1_format.keys()))\n",
    "print(f\"Counts shape: {predicted_s1_format['predicted_counts'].shape}\")\n",
    "print(f\"Number of spots: {len(predicted_s1_format['spots'])}\")\n"
   ]
  },
  {
   "cell_type": "code",
   "execution_count": 6,
   "id": "3321497c",
   "metadata": {},
   "outputs": [],
   "source": [
    "new_spots = np.array(new_spots, dtype=object)\n",
    "\n",
    "np.savez(\"/orcd/data/omarabu/001/tanush20/data/MERFISH/S1R1_predicted_counts_4.npz\",\n",
    "        spots = new_spots,\n",
    "        counts = predicted_s1_format['predicted_counts'])"
   ]
  },
  {
   "cell_type": "code",
   "execution_count": 7,
   "id": "1a871cc8",
   "metadata": {},
   "outputs": [
    {
     "name": "stdout",
     "output_type": "stream",
     "text": [
      "Loading datasets for evaluation...\n",
      "True data keys: ['imgs', 'counts', 'spots', 'x_um', 'y_um', 'annotations', 'visium_simulated', 'cell_type_counts', 'n_cells']\n",
      "Predicted data keys: ['spots', 'counts']\n",
      "True counts shape: (78329, 649)\n",
      "Predicted counts shape: (73613, 649)\n",
      "Number of spots: 4358\n"
     ]
    }
   ],
   "source": [
    "# Load both datasets for evaluation\n",
    "print(\"Loading datasets for evaluation...\")\n",
    "true_data = np.load('/orcd/data/omarabu/001/tanush20/data/MERFISH/S1R1.npz', allow_pickle=True)\n",
    "predicted_data = np.load('/orcd/data/omarabu/001/tanush20/data/MERFISH/S1R1_predicted_counts_4.npz', allow_pickle=True)\n",
    "\n",
    "print(f\"True data keys: {list(true_data.keys())}\")\n",
    "print(f\"Predicted data keys: {list(predicted_data.keys())}\")\n",
    "print(f\"True counts shape: {true_data['counts'].shape}\")\n",
    "print(f\"Predicted counts shape: {predicted_data['counts'].shape}\")\n",
    "print(f\"Number of spots: {len(true_data['spots'])}\")\n"
   ]
  },
  {
   "cell_type": "code",
   "execution_count": 8,
   "id": "f92cb591",
   "metadata": {},
   "outputs": [],
   "source": [
    "import os\n",
    "os.chdir('/orcd/data/omarabu/001/tanush20/counting_flows_')\n",
    "from metrics import *\n"
   ]
  },
  {
   "cell_type": "code",
   "execution_count": 9,
   "id": "0d6ced78",
   "metadata": {},
   "outputs": [
    {
     "name": "stdout",
     "output_type": "stream",
     "text": [
      "Starting evaluation...\n",
      "Evaluating 4358 spots...\n",
      "Processing spot 0/4358\n"
     ]
    },
    {
     "name": "stderr",
     "output_type": "stream",
     "text": [
      "/orcd/data/omarabu/001/tanush20/counting_flows_/metrics.py:26: RuntimeWarning: Precision loss occurred in moment calculation due to catastrophic cancellation. This occurs when the data are nearly identical. Results may be unreliable.\n",
      "  return float(np.mean(np.abs(scipy.stats.skew(X, axis=0) - scipy.stats.skew(Y, axis=0))))\n",
      "/orcd/data/omarabu/001/tanush20/counting_flows_/metrics.py:31: RuntimeWarning: Precision loss occurred in moment calculation due to catastrophic cancellation. This occurs when the data are nearly identical. Results may be unreliable.\n",
      "  return float(np.mean(np.abs(scipy.stats.kurtosis(X, axis=0) - scipy.stats.kurtosis(Y, axis=0))))\n",
      "/orcd/data/omarabu/001/tanush20/counting_flows_/metrics.py:80: RuntimeWarning: Degrees of freedom <= 0 for slice\n",
      "  cov_X = np.cov(X.T)\n",
      "/home/tanush20/anaconda3/envs/cell-types-3/lib/python3.10/site-packages/numpy/lib/function_base.py:2748: RuntimeWarning: divide by zero encountered in divide\n",
      "  c *= np.true_divide(1, fact)\n",
      "/home/tanush20/anaconda3/envs/cell-types-3/lib/python3.10/site-packages/numpy/lib/function_base.py:2748: RuntimeWarning: invalid value encountered in multiply\n",
      "  c *= np.true_divide(1, fact)\n",
      "/orcd/data/omarabu/001/tanush20/counting_flows_/metrics.py:81: RuntimeWarning: Degrees of freedom <= 0 for slice\n",
      "  cov_Y = np.cov(Y.T)\n"
     ]
    },
    {
     "name": "stdout",
     "output_type": "stream",
     "text": [
      "Processing spot 500/4358\n",
      "Processing spot 1000/4358\n",
      "Processing spot 1500/4358\n",
      "Processing spot 2000/4358\n",
      "Processing spot 2500/4358\n",
      "Processing spot 3000/4358\n",
      "Processing spot 3500/4358\n",
      "Processing spot 4000/4358\n"
     ]
    }
   ],
   "source": [
    "# Evaluation function\n",
    "def evaluate_predictions(true_data, predicted_data, imgs, max_img_size=256):\n",
    "    \"\"\"\n",
    "    Evaluate predicted counts against true counts and spot means\n",
    "    \n",
    "    Args:\n",
    "        true_data: npz file with true data\n",
    "        predicted_data: npz file with predicted data\n",
    "        max_img_size: maximum image size to consider (default 256)\n",
    "    \n",
    "    Returns:\n",
    "        dict with MSE results\n",
    "    \"\"\"\n",
    "    true_counts = true_data['counts']\n",
    "    predicted_counts = predicted_data['counts']\n",
    "    true_spots = true_data['spots']\n",
    "    predicted_spots = predicted_data['spots']\n",
    "    \n",
    "    n_spots = len(true_spots)\n",
    "    \n",
    "    # Store MSE results for each spot\n",
    "    metrics_pred_vs_true = {}\n",
    "    metrics_pred_vs_spot_mean = {}\n",
    "    metrics_true_vs_spot_mean = {}\n",
    "    metrics = ['energy_distance', 'wasserstein_distance', 'mmd_rbf','mse']\n",
    "    for metric in metrics:\n",
    "        metrics_pred_vs_true[metric] = []\n",
    "        metrics_pred_vs_spot_mean[metric] = []\n",
    "        metrics_true_vs_spot_mean[metric] = []\n",
    "    valid_spots = 0\n",
    "    n_cells = []\n",
    "    \n",
    "    print(f\"Evaluating {n_spots} spots...\")\n",
    "    \n",
    "    for spot_idx in range(n_spots):\n",
    "        if spot_idx % 500 == 0:\n",
    "            print(f\"Processing spot {spot_idx}/{n_spots}\")\n",
    "        \n",
    "        # Get cell indices for this spot\n",
    "        true_cell_indices = np.array(true_spots[spot_idx]).astype(int)\n",
    "        predicted_cell_indices = np.array(predicted_spots[spot_idx]).astype(int)\n",
    "        \n",
    "        # Get counts for this spot\n",
    "        true_spot_counts = true_counts[true_cell_indices]\n",
    "        predicted_spot_counts = predicted_counts[predicted_cell_indices]\n",
    "        \n",
    "        # Filter cells based on image size (only for true data since predicted is already filtered)\n",
    "        valid_cells = []\n",
    "        for i,cell_idx in enumerate(true_cell_indices):\n",
    "            cell_img = imgs[cell_idx]\n",
    "            if max(cell_img.shape) <= 256:  # Fixed: should be <= not >\n",
    "                valid_cells.append(i)\n",
    "        if len(valid_cells) == 0:\n",
    "            continue  # Skip spots with no valid cells\n",
    "        n_cells.append(len(valid_cells))\n",
    "        \n",
    "        # Filter true counts to only valid cells (predicted is already filtered)\n",
    "        true_spot_counts_valid = true_spot_counts[valid_cells]\n",
    "        predicted_spot_counts_valid = predicted_spot_counts  # Already filtered\n",
    "\n",
    "        # Calculate spot mean from true counts (filtered)\n",
    "        spot_mean = np.mean(true_spot_counts_valid, axis=0)\n",
    "        \n",
    "        # Calculate MSE: predicted vs true\n",
    "        mse_pred_true = np.mean((predicted_spot_counts_valid - true_spot_counts_valid) ** 2)\n",
    "        metrics_pred_vs_true['mse'].append(mse_pred_true)\n",
    "        \n",
    "        # Calculate MSE: predicted vs spot mean\n",
    "        mse_pred_mean = np.mean((predicted_spot_counts_valid - spot_mean) ** 2)\n",
    "        metrics_pred_vs_spot_mean['mse'].append(mse_pred_mean)\n",
    "        \n",
    "        # Calculate MSE: true vs spot mean\n",
    "        mse_true_mean = np.mean((true_spot_counts_valid - spot_mean) ** 2)\n",
    "        metrics_true_vs_spot_mean['mse'].append(mse_true_mean)\n",
    "        \n",
    "        valid_spots += 1\n",
    "\n",
    "        d = {}\n",
    "        d['x0_target'] = true_spot_counts_valid\n",
    "        d['x0_generated'] = predicted_spot_counts_valid\n",
    "        res_true_vs_predicted = compute_comprehensive_metrics(d)\n",
    "        for metric in metrics:\n",
    "            if metric == 'mse':\n",
    "                continue\n",
    "            metrics_pred_vs_true[metric].append(res_true_vs_predicted[metric])\n",
    "\n",
    "        d = {}\n",
    "        d['x0_target'] = spot_mean.reshape(1,-1)\n",
    "        d['x0_target'] = np.tile(spot_mean, (len(predicted_spot_counts_valid), 1))\n",
    "        d['x0_generated'] = predicted_spot_counts_valid\n",
    "        res_pred_vs_spot_mean = compute_comprehensive_metrics(d)\n",
    "        for metric in metrics:\n",
    "            if metric == 'mse':\n",
    "                continue\n",
    "            metrics_pred_vs_spot_mean[metric].append(res_pred_vs_spot_mean[metric])\n",
    "\n",
    "        d = {}\n",
    "        d['x0_target'] = true_spot_counts_valid\n",
    "        d['x0_generated'] = spot_mean.reshape(1,-1)\n",
    "        d['x0_generated'] = np.tile(spot_mean, (len(true_spot_counts_valid), 1))\n",
    "        res_true_vs_spot_mean = compute_comprehensive_metrics(d)\n",
    "        for metric in metrics:\n",
    "            if metric == 'mse':\n",
    "                continue\n",
    "            metrics_true_vs_spot_mean[metric].append(res_true_vs_spot_mean[metric])\n",
    "    \n",
    "    return metrics_pred_vs_true, metrics_pred_vs_spot_mean, metrics_true_vs_spot_mean\n",
    "\n",
    "# Run evaluation\n",
    "print(\"Starting evaluation...\")\n",
    "metrics_pred_vs_true, metrics_pred_vs_spot_mean, metrics_true_vs_spot_mean = evaluate_predictions(true_data, predicted_data, imgs, max_img_size=256)\n"
   ]
  },
  {
   "cell_type": "code",
   "execution_count": 19,
   "id": "6adbdeab",
   "metadata": {},
   "outputs": [
    {
     "name": "stdout",
     "output_type": "stream",
     "text": [
      "Metric             energy_distance  wasserstein_distance  mmd_rbf\n",
      "Pred vs True                15.787                 0.020    0.258\n",
      "Pred vs Spot Mean           32.868                 0.027    0.309\n",
      "True vs Spot Mean           41.717                 0.030    0.409\n"
     ]
    }
   ],
   "source": [
    "import pandas as pd\n",
    "metrics = ['energy_distance', 'wasserstein_distance', 'mmd_rbf']\n",
    "\n",
    "# collect results into a list of dicts\n",
    "rows = []\n",
    "for metric in metrics:\n",
    "    rows.append({\n",
    "        \"Metric\": metric,\n",
    "        \"Pred vs True\": np.mean(metrics_pred_vs_true[metric]),\n",
    "        \"Pred vs Spot Mean\": np.mean(metrics_pred_vs_spot_mean[metric]),\n",
    "        \"True vs Spot Mean\": np.mean(metrics_true_vs_spot_mean[metric]),\n",
    "    })\n",
    "\n",
    "# turn into DataFrame for neat printing\n",
    "df = pd.DataFrame(rows)\n",
    "df.set_index('Metric', inplace=True)\n",
    "df = df.T\n",
    "print(df.to_string(float_format=\"%.3f\"))\n"
   ]
  }
 ],
 "metadata": {
  "kernelspec": {
   "display_name": "cell-types-3",
   "language": "python",
   "name": "python3"
  },
  "language_info": {
   "codemirror_mode": {
    "name": "ipython",
    "version": 3
   },
   "file_extension": ".py",
   "mimetype": "text/x-python",
   "name": "python",
   "nbconvert_exporter": "python",
   "pygments_lexer": "ipython3",
   "version": "3.10.16"
  }
 },
 "nbformat": 4,
 "nbformat_minor": 5
}
