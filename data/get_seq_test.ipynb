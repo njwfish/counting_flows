{
 "cells": [
  {
   "cell_type": "code",
   "execution_count": 1,
   "id": "a42d3074",
   "metadata": {},
   "outputs": [],
   "source": [
    "%load_ext autoreload\n",
    "%autoreload 2"
   ]
  },
  {
   "cell_type": "code",
   "execution_count": 2,
   "id": "4b8d0758",
   "metadata": {},
   "outputs": [],
   "source": [
    "from exprbyseq_vectorized import scExprBySeqVectorized"
   ]
  },
  {
   "cell_type": "code",
   "execution_count": 3,
   "id": "38a5dea0",
   "metadata": {},
   "outputs": [],
   "source": [
    "\n",
    "expr_vec = scExprBySeqVectorized(\n",
    "    \"/orcd/data/omarabu/001/gokul/count_sequence/training_data/epicardioids_training_data/snapatac_matched_minus.h5ad\",\n",
    "    \"/orcd/data/omarabu/001/gokul/count_sequence/training_data/scooby_training_data/genome_human.fa\"\n",
    ")\n"
   ]
  },
  {
   "cell_type": "code",
   "execution_count": null,
   "id": "ca7a645f",
   "metadata": {},
   "outputs": [],
   "source": [
    "expr_vec.chrom_starts\n",
    "import numpy as np\n",
    "\n",
    "# sample a random chrom proportional to its length\n",
    "chrom_lens = expr_vec.chrom_lens/expr_vec.chrom_lens.sum()\n",
    "chrom_idx = np.random.choice(len(expr_vec.chrom_starts), p=expr_vec.chrom_lens/expr_vec.chrom_lens.sum())\n",
    "chrom_name = expr_vec.chrom_names[chrom_idx]\n",
    "chrom_start = expr_vec.chrom_starts[chrom_idx]\n",
    "chrom_end = chrom_start + expr_vec.chrom_lens[chrom_idx]\n",
    "\n",
    "# sample a random position in the chrom\n",
    "pos = np.random.randint(chrom_start, chrom_end)\n",
    "\n",
    "# get the sequence\n",
    "seq = expr_vec.get_seq(pos, pos+1000)"
   ]
  },
  {
   "cell_type": "code",
   "execution_count": 8,
   "id": "c272733a",
   "metadata": {},
   "outputs": [
    {
     "data": {
      "text/plain": [
       "np.uint64(3088286401)"
      ]
     },
     "execution_count": 8,
     "metadata": {},
     "output_type": "execute_result"
    }
   ],
   "source": [
    "expr_vec.chrom_lens.sum()"
   ]
  },
  {
   "cell_type": "code",
   "execution_count": 7,
   "id": "4bd37f34",
   "metadata": {},
   "outputs": [
    {
     "data": {
      "text/plain": [
       "array([8.06131264e-02, 4.33241625e-02, 4.37416109e-02, 4.31551002e-02,\n",
       "       3.70316458e-02, 3.46612017e-02, 3.30251718e-02, 2.92519324e-02,\n",
       "       2.69591062e-02, 2.60252045e-02, 1.89806282e-02, 7.84232735e-02,\n",
       "       2.08672897e-02, 1.51248871e-02, 1.64552316e-02, 6.42089279e-02,\n",
       "       6.15922652e-02, 5.87828444e-02, 5.53076874e-02, 5.15968898e-02,\n",
       "       4.69964949e-02, 4.48127858e-02, 5.36511121e-06, 5.05266917e-02,\n",
       "       1.85304753e-02])"
      ]
     },
     "execution_count": 7,
     "metadata": {},
     "output_type": "execute_result"
    }
   ],
   "source": [
    "expr_vec.chrom_lens/expr_vec.chrom_lens.sum()"
   ]
  },
  {
   "cell_type": "code",
   "execution_count": null,
   "id": "7e69a773",
   "metadata": {},
   "outputs": [
    {
     "data": {
      "text/html": [
       "<div><style>\n",
       ".dataframe > thead > tr,\n",
       ".dataframe > tbody > tr {\n",
       "  text-align: right;\n",
       "  white-space: pre-wrap;\n",
       "}\n",
       "</style>\n",
       "<small>shape: (981, 2)</small><table border=\"1\" class=\"dataframe\"><thead><tr><th>individual</th><th>count</th></tr><tr><td>cat</td><td>u32</td></tr></thead><tbody><tr><td>&quot;650_651&quot;</td><td>3501</td></tr><tr><td>&quot;764_765&quot;</td><td>3196</td></tr><tr><td>&quot;773_774&quot;</td><td>2774</td></tr><tr><td>&quot;1008_1009&quot;</td><td>2711</td></tr><tr><td>&quot;765_766&quot;</td><td>2674</td></tr><tr><td>&hellip;</td><td>&hellip;</td></tr><tr><td>&quot;528_529&quot;</td><td>583</td></tr><tr><td>&quot;738_739&quot;</td><td>564</td></tr><tr><td>&quot;188_189&quot;</td><td>544</td></tr><tr><td>&quot;940_941&quot;</td><td>499</td></tr><tr><td>&quot;193_194&quot;</td><td>342</td></tr></tbody></table></div>"
      ],
      "text/plain": [
       "shape: (981, 2)\n",
       "┌────────────┬───────┐\n",
       "│ individual ┆ count │\n",
       "│ ---        ┆ ---   │\n",
       "│ cat        ┆ u32   │\n",
       "╞════════════╪═══════╡\n",
       "│ 650_651    ┆ 3501  │\n",
       "│ 764_765    ┆ 3196  │\n",
       "│ 773_774    ┆ 2774  │\n",
       "│ 1008_1009  ┆ 2711  │\n",
       "│ 765_766    ┆ 2674  │\n",
       "│ …          ┆ …     │\n",
       "│ 528_529    ┆ 583   │\n",
       "│ 738_739    ┆ 564   │\n",
       "│ 188_189    ┆ 544   │\n",
       "│ 940_941    ┆ 499   │\n",
       "│ 193_194    ┆ 342   │\n",
       "└────────────┴───────┘"
      ]
     },
     "execution_count": 24,
     "metadata": {},
     "output_type": "execute_result"
    }
   ],
   "source": [
    "\n",
    "# cell type conditioning \n",
    "# "
   ]
  },
  {
   "cell_type": "code",
   "execution_count": 15,
   "id": "b25c68fb",
   "metadata": {},
   "outputs": [
    {
     "data": {
      "text/html": [
       "<div><style>\n",
       ".dataframe > thead > tr,\n",
       ".dataframe > tbody > tr {\n",
       "  text-align: right;\n",
       "  white-space: pre-wrap;\n",
       "}\n",
       "</style>\n",
       "<small>shape: (14, 2)</small><table border=\"1\" class=\"dataframe\"><thead><tr><th>cell_label</th><th>count</th></tr><tr><td>cat</td><td>u32</td></tr></thead><tbody><tr><td>&quot;CD4 NC&quot;</td><td>463528</td></tr><tr><td>&quot;CD8 ET&quot;</td><td>205077</td></tr><tr><td>&quot;NK&quot;</td><td>159820</td></tr><tr><td>&quot;CD8 NC&quot;</td><td>133482</td></tr><tr><td>&quot;B IN&quot;</td><td>82068</td></tr><tr><td>&hellip;</td><td>&hellip;</td></tr><tr><td>&quot;Mono NC&quot;</td><td>15166</td></tr><tr><td>&quot;NK R&quot;</td><td>9677</td></tr><tr><td>&quot;DC&quot;</td><td>8690</td></tr><tr><td>&quot;CD4 SOX4&quot;</td><td>4065</td></tr><tr><td>&quot;Plasma&quot;</td><td>3625</td></tr></tbody></table></div>"
      ],
      "text/plain": [
       "shape: (14, 2)\n",
       "┌────────────┬────────┐\n",
       "│ cell_label ┆ count  │\n",
       "│ ---        ┆ ---    │\n",
       "│ cat        ┆ u32    │\n",
       "╞════════════╪════════╡\n",
       "│ CD4 NC     ┆ 463528 │\n",
       "│ CD8 ET     ┆ 205077 │\n",
       "│ NK         ┆ 159820 │\n",
       "│ CD8 NC     ┆ 133482 │\n",
       "│ B IN       ┆ 82068  │\n",
       "│ …          ┆ …      │\n",
       "│ Mono NC    ┆ 15166  │\n",
       "│ NK R       ┆ 9677   │\n",
       "│ DC         ┆ 8690   │\n",
       "│ CD4 SOX4   ┆ 4065   │\n",
       "│ Plasma     ┆ 3625   │\n",
       "└────────────┴────────┘"
      ]
     },
     "execution_count": 15,
     "metadata": {},
     "output_type": "execute_result"
    }
   ],
   "source": [
    "expr_vec.sd.obs['cell_label'].value_counts(sort=True)"
   ]
  },
  {
   "cell_type": "code",
   "execution_count": 4,
   "id": "2ddc2fa7",
   "metadata": {},
   "outputs": [
    {
     "name": "stdout",
     "output_type": "stream",
     "text": [
      "i have this many cells:  30638\n",
      "this is how many bases in the genome:  3088286401.0\n",
      "i have this many cells:  30638\n",
      "this is how many bases in the genome:  3088286401.0\n"
     ]
    }
   ],
   "source": [
    "# how many cells ?\n",
    "# how many nucleotides?\n",
    "\n",
    "print('i have this many cells: ', expr.n_cells)\n",
    "print('this is how many bases in the genome: ', expr.max_nt)\n",
    "\n",
    "print('i have this many cells: ', expr_opt.n_cells)\n",
    "print('this is how many bases in the genome: ', expr_opt.max_nt)"
   ]
  },
  {
   "cell_type": "code",
   "execution_count": null,
   "id": "54ba7eca",
   "metadata": {},
   "outputs": [],
   "source": [
    "# num params "
   ]
  },
  {
   "cell_type": "code",
   "execution_count": 43,
   "id": "f9bebfe9",
   "metadata": {},
   "outputs": [
    {
     "data": {
      "text/plain": [
       "torch.Size([1, 896, 3072])"
      ]
     },
     "execution_count": 43,
     "metadata": {},
     "output_type": "execute_result"
    }
   ],
   "source": [
    "import torch\n",
    "\n",
    "model(torch.from_numpy(seqs.astype(int)).unsqueeze(0).cuda(), return_only_embeddings=True).shape"
   ]
  },
  {
   "cell_type": "code",
   "execution_count": 12,
   "id": "dd1100b0",
   "metadata": {},
   "outputs": [],
   "source": [
    "vecs_vec = expr_vec.get_sparse(cell_idx=range(2000), window=(int(3e7), int(3e7+196_6080)))\n"
   ]
  },
  {
   "cell_type": "code",
   "execution_count": 14,
   "id": "e38b2542",
   "metadata": {},
   "outputs": [
    {
     "data": {
      "text/plain": [
       "np.float64(3088269832.0)"
      ]
     },
     "execution_count": 14,
     "metadata": {},
     "output_type": "execute_result"
    }
   ],
   "source": [
    "expr_vec.max_nt"
   ]
  },
  {
   "cell_type": "code",
   "execution_count": 17,
   "id": "d04a908c",
   "metadata": {},
   "outputs": [
    {
     "data": {
      "text/plain": [
       "AnnData object with n_obs x n_vars = 1267768 x 0 backed at '/orcd/data/omarabu/001/gokul/count_sequence/training_data/onek1k_training_data/snapatac_merged_minus.h5ad'\n",
       "    obs: 'n_fragment', 'frac_dup', 'frac_mito', 'orig.ident', 'nCount_RNA', 'nFeature_RNA', 'pool', 'individual', 'percent.mt', 'latent', 'nCount_SCT', 'nFeature_SCT', 'cell_type', 'cell_label', 'sex', 'age', 'sample', 'barcode_sample'\n",
       "    uns: 'reference_sequences'\n",
       "    obsm: 'fragment_single'"
      ]
     },
     "execution_count": 17,
     "metadata": {},
     "output_type": "execute_result"
    }
   ],
   "source": [
    "expr_vec.sd"
   ]
  },
  {
   "cell_type": "code",
   "execution_count": 8,
   "id": "711d56b0",
   "metadata": {},
   "outputs": [
    {
     "data": {
      "text/html": [
       "<div><style>\n",
       ".dataframe > thead > tr,\n",
       ".dataframe > tbody > tr {\n",
       "  text-align: right;\n",
       "  white-space: pre-wrap;\n",
       "}\n",
       "</style>\n",
       "<small>shape: (1, 2)</small><table border=\"1\" class=\"dataframe\"><thead><tr><th>clusters</th><th>count</th></tr><tr><td>cat</td><td>u32</td></tr></thead><tbody><tr><td>&quot;9&quot;</td><td>2796</td></tr></tbody></table></div>"
      ],
      "text/plain": [
       "shape: (1, 2)\n",
       "┌──────────┬───────┐\n",
       "│ clusters ┆ count │\n",
       "│ ---      ┆ ---   │\n",
       "│ cat      ┆ u32   │\n",
       "╞══════════╪═══════╡\n",
       "│ 9        ┆ 2796  │\n",
       "└──────────┴───────┘"
      ]
     },
     "execution_count": 8,
     "metadata": {},
     "output_type": "execute_result"
    }
   ],
   "source": [
    "expr_opt.sd.obs['clusters'].value_counts().max()"
   ]
  },
  {
   "cell_type": "code",
   "execution_count": 21,
   "id": "e3ab95dd",
   "metadata": {},
   "outputs": [],
   "source": [
    "import scipy.sparse as sp\n",
    "\n"
   ]
  },
  {
   "cell_type": "code",
   "execution_count": null,
   "id": "48838e53",
   "metadata": {},
   "outputs": [],
   "source": []
  }
 ],
 "metadata": {
  "kernelspec": {
   "display_name": "seq",
   "language": "python",
   "name": "python3"
  },
  "language_info": {
   "codemirror_mode": {
    "name": "ipython",
    "version": 3
   },
   "file_extension": ".py",
   "mimetype": "text/x-python",
   "name": "python",
   "nbconvert_exporter": "python",
   "pygments_lexer": "ipython3",
   "version": "3.10.18"
  }
 },
 "nbformat": 4,
 "nbformat_minor": 5
}
