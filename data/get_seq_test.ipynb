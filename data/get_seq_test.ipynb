{
 "cells": [
  {
   "cell_type": "code",
   "execution_count": 1,
   "id": "a42d3074",
   "metadata": {},
   "outputs": [],
   "source": [
    "%load_ext autoreload\n",
    "%autoreload 2"
   ]
  },
  {
   "cell_type": "code",
   "execution_count": 3,
   "id": "4b8d0758",
   "metadata": {},
   "outputs": [],
   "source": [
    "from exprbyseq import scExprBySeq\n",
    "from exprbyseq_optimized import scExprBySeqOptimized\n",
    "from exprbyseq_vectorized import scExprBySeqVectorized"
   ]
  },
  {
   "cell_type": "code",
   "execution_count": 6,
   "id": "38a5dea0",
   "metadata": {},
   "outputs": [
    {
     "ename": "AttributeError",
     "evalue": "'scExprBySeqVectorized' object has no attribute 'cell_type_idxs'",
     "output_type": "error",
     "traceback": [
      "\u001b[0;31m---------------------------------------------------------------------------\u001b[0m",
      "\u001b[0;31mAttributeError\u001b[0m                            Traceback (most recent call last)",
      "Cell \u001b[0;32mIn[6], line 9\u001b[0m\n\u001b[1;32m      1\u001b[0m expr \u001b[38;5;241m=\u001b[39m scExprBySeq(\n\u001b[1;32m      2\u001b[0m     \u001b[38;5;124m\"\u001b[39m\u001b[38;5;124m/orcd/data/omarabu/001/gokul/count_sequence/training_data/epicardioids_training_data/snapatac_matched_minus.h5ad\u001b[39m\u001b[38;5;124m\"\u001b[39m,\n\u001b[1;32m      3\u001b[0m     \u001b[38;5;124m\"\u001b[39m\u001b[38;5;124m/orcd/data/omarabu/001/gokul/count_sequence/training_data/scooby_training_data/genome_human.fa\u001b[39m\u001b[38;5;124m\"\u001b[39m\n\u001b[1;32m      4\u001b[0m )\n\u001b[1;32m      5\u001b[0m expr_opt \u001b[38;5;241m=\u001b[39m scExprBySeqOptimized(\n\u001b[1;32m      6\u001b[0m     \u001b[38;5;124m\"\u001b[39m\u001b[38;5;124m/orcd/data/omarabu/001/gokul/count_sequence/training_data/epicardioids_training_data/snapatac_matched_minus.h5ad\u001b[39m\u001b[38;5;124m\"\u001b[39m,\n\u001b[1;32m      7\u001b[0m     \u001b[38;5;124m\"\u001b[39m\u001b[38;5;124m/orcd/data/omarabu/001/gokul/count_sequence/training_data/scooby_training_data/genome_human.fa\u001b[39m\u001b[38;5;124m\"\u001b[39m\n\u001b[1;32m      8\u001b[0m )\n\u001b[0;32m----> 9\u001b[0m expr_vec \u001b[38;5;241m=\u001b[39m \u001b[43mscExprBySeqVectorized\u001b[49m\u001b[43m(\u001b[49m\n\u001b[1;32m     10\u001b[0m \u001b[43m    \u001b[49m\u001b[38;5;124;43m\"\u001b[39;49m\u001b[38;5;124;43m/orcd/data/omarabu/001/gokul/count_sequence/training_data/epicardioids_training_data/snapatac_matched_minus.h5ad\u001b[39;49m\u001b[38;5;124;43m\"\u001b[39;49m\u001b[43m,\u001b[49m\n\u001b[1;32m     11\u001b[0m \u001b[43m    \u001b[49m\u001b[38;5;124;43m\"\u001b[39;49m\u001b[38;5;124;43m/orcd/data/omarabu/001/gokul/count_sequence/training_data/scooby_training_data/genome_human.fa\u001b[39;49m\u001b[38;5;124;43m\"\u001b[39;49m\n\u001b[1;32m     12\u001b[0m \u001b[43m)\u001b[49m\n",
      "File \u001b[0;32m/orcd/data/omarabu/001/njwfish/counting_flows/data/exprbyseq_vectorized.py:53\u001b[0m, in \u001b[0;36mscExprBySeqVectorized.__init__\u001b[0;34m(self, snapfile, fastafile, cell_type_col, base_cell_type, window_size, batch_size)\u001b[0m\n\u001b[1;32m     50\u001b[0m \u001b[38;5;28mself\u001b[39m\u001b[38;5;241m.\u001b[39mfragment_matrix \u001b[38;5;241m=\u001b[39m \u001b[38;5;28mself\u001b[39m\u001b[38;5;241m.\u001b[39msd\u001b[38;5;241m.\u001b[39mobsm[\u001b[38;5;124m'\u001b[39m\u001b[38;5;124mfragment_single\u001b[39m\u001b[38;5;124m'\u001b[39m]\n\u001b[1;32m     52\u001b[0m \u001b[38;5;28mself\u001b[39m\u001b[38;5;241m.\u001b[39mbase_cell_type \u001b[38;5;241m=\u001b[39m base_cell_type\n\u001b[0;32m---> 53\u001b[0m \u001b[38;5;28mself\u001b[39m\u001b[38;5;241m.\u001b[39mbase_cell_type_idx \u001b[38;5;241m=\u001b[39m \u001b[38;5;28;43mself\u001b[39;49m\u001b[38;5;241;43m.\u001b[39;49m\u001b[43mcell_type_idxs\u001b[49m[base_cell_type]\n\u001b[1;32m     54\u001b[0m \u001b[38;5;28mself\u001b[39m\u001b[38;5;241m.\u001b[39mcell_type_idxs \u001b[38;5;241m=\u001b[39m {\n\u001b[1;32m     55\u001b[0m     cell_type: np\u001b[38;5;241m.\u001b[39mwhere(\u001b[38;5;28mself\u001b[39m\u001b[38;5;241m.\u001b[39msd\u001b[38;5;241m.\u001b[39mobs[cell_type_col] \u001b[38;5;241m==\u001b[39m cell_type)[\u001b[38;5;241m0\u001b[39m]\n\u001b[1;32m     56\u001b[0m     \u001b[38;5;28;01mfor\u001b[39;00m cell_type \u001b[38;5;129;01min\u001b[39;00m \u001b[38;5;28mself\u001b[39m\u001b[38;5;241m.\u001b[39msd\u001b[38;5;241m.\u001b[39mobs[cell_type_col]\u001b[38;5;241m.\u001b[39munique() \u001b[38;5;28;01mif\u001b[39;00m cell_type \u001b[38;5;241m!=\u001b[39m base_cell_type\n\u001b[1;32m     57\u001b[0m }\n",
      "\u001b[0;31mAttributeError\u001b[0m: 'scExprBySeqVectorized' object has no attribute 'cell_type_idxs'"
     ]
    }
   ],
   "source": [
    "expr = scExprBySeq(\n",
    "    \"/orcd/data/omarabu/001/gokul/count_sequence/training_data/epicardioids_training_data/snapatac_matched_minus.h5ad\",\n",
    "    \"/orcd/data/omarabu/001/gokul/count_sequence/training_data/scooby_training_data/genome_human.fa\"\n",
    ")\n",
    "expr_opt = scExprBySeqOptimized(\n",
    "    \"/orcd/data/omarabu/001/gokul/count_sequence/training_data/epicardioids_training_data/snapatac_matched_minus.h5ad\",\n",
    "    \"/orcd/data/omarabu/001/gokul/count_sequence/training_data/scooby_training_data/genome_human.fa\"\n",
    ")\n",
    "expr_vec = scExprBySeqVectorized(\n",
    "    \"/orcd/data/omarabu/001/gokul/count_sequence/training_data/epicardioids_training_data/snapatac_matched_minus.h5ad\",\n",
    "    \"/orcd/data/omarabu/001/gokul/count_sequence/training_data/scooby_training_data/genome_human.fa\"\n",
    ")\n"
   ]
  },
  {
   "cell_type": "code",
   "execution_count": 4,
   "id": "2ddc2fa7",
   "metadata": {},
   "outputs": [
    {
     "name": "stdout",
     "output_type": "stream",
     "text": [
      "i have this many cells:  30638\n",
      "this is how many bases in the genome:  3088286401.0\n",
      "i have this many cells:  30638\n",
      "this is how many bases in the genome:  3088286401.0\n"
     ]
    }
   ],
   "source": [
    "# how many cells ?\n",
    "# how many nucleotides?\n",
    "\n",
    "print('i have this many cells: ', expr.n_cells)\n",
    "print('this is how many bases in the genome: ', expr.max_nt)\n",
    "\n",
    "print('i have this many cells: ', expr_opt.n_cells)\n",
    "print('this is how many bases in the genome: ', expr_opt.max_nt)"
   ]
  },
  {
   "cell_type": "code",
   "execution_count": null,
   "id": "54ba7eca",
   "metadata": {},
   "outputs": [],
   "source": [
    "# num params "
   ]
  },
  {
   "cell_type": "code",
   "execution_count": 43,
   "id": "f9bebfe9",
   "metadata": {},
   "outputs": [
    {
     "data": {
      "text/plain": [
       "torch.Size([1, 896, 3072])"
      ]
     },
     "execution_count": 43,
     "metadata": {},
     "output_type": "execute_result"
    }
   ],
   "source": [
    "import torch\n",
    "\n",
    "model(torch.from_numpy(seqs.astype(int)).unsqueeze(0).cuda(), return_only_embeddings=True).shape"
   ]
  },
  {
   "cell_type": "code",
   "execution_count": 19,
   "id": "dd1100b0",
   "metadata": {},
   "outputs": [],
   "source": [
    "vecs_vec, seqs = expr_vec.get_sparse(cell_idx=range(2000), window=(int(3e6), int(3e6+196_608)))\n"
   ]
  },
  {
   "cell_type": "code",
   "execution_count": 34,
   "id": "e38b2542",
   "metadata": {},
   "outputs": [
    {
     "data": {
      "text/plain": [
       "(196608,)"
      ]
     },
     "execution_count": 34,
     "metadata": {},
     "output_type": "execute_result"
    }
   ],
   "source": [
    "seqs.shape"
   ]
  },
  {
   "cell_type": "code",
   "execution_count": 8,
   "id": "711d56b0",
   "metadata": {},
   "outputs": [
    {
     "data": {
      "text/html": [
       "<div><style>\n",
       ".dataframe > thead > tr,\n",
       ".dataframe > tbody > tr {\n",
       "  text-align: right;\n",
       "  white-space: pre-wrap;\n",
       "}\n",
       "</style>\n",
       "<small>shape: (1, 2)</small><table border=\"1\" class=\"dataframe\"><thead><tr><th>clusters</th><th>count</th></tr><tr><td>cat</td><td>u32</td></tr></thead><tbody><tr><td>&quot;9&quot;</td><td>2796</td></tr></tbody></table></div>"
      ],
      "text/plain": [
       "shape: (1, 2)\n",
       "┌──────────┬───────┐\n",
       "│ clusters ┆ count │\n",
       "│ ---      ┆ ---   │\n",
       "│ cat      ┆ u32   │\n",
       "╞══════════╪═══════╡\n",
       "│ 9        ┆ 2796  │\n",
       "└──────────┴───────┘"
      ]
     },
     "execution_count": 8,
     "metadata": {},
     "output_type": "execute_result"
    }
   ],
   "source": [
    "expr_opt.sd.obs['clusters'].value_counts().max()"
   ]
  },
  {
   "cell_type": "code",
   "execution_count": 21,
   "id": "e3ab95dd",
   "metadata": {},
   "outputs": [],
   "source": [
    "import scipy.sparse as sp\n",
    "\n"
   ]
  },
  {
   "cell_type": "code",
   "execution_count": null,
   "id": "48838e53",
   "metadata": {},
   "outputs": [],
   "source": []
  }
 ],
 "metadata": {
  "kernelspec": {
   "display_name": "seq",
   "language": "python",
   "name": "python3"
  },
  "language_info": {
   "codemirror_mode": {
    "name": "ipython",
    "version": 3
   },
   "file_extension": ".py",
   "mimetype": "text/x-python",
   "name": "python",
   "nbconvert_exporter": "python",
   "pygments_lexer": "ipython3",
   "version": "3.10.18"
  }
 },
 "nbformat": 4,
 "nbformat_minor": 5
}
