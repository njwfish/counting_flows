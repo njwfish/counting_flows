{
 "cells": [
  {
   "cell_type": "code",
   "execution_count": 1,
   "id": "a42d3074",
   "metadata": {},
   "outputs": [],
   "source": [
    "%load_ext autoreload\n",
    "%autoreload 2"
   ]
  },
  {
   "cell_type": "code",
   "execution_count": 2,
   "id": "26aa8758",
   "metadata": {},
   "outputs": [
    {
     "name": "stdout",
     "output_type": "stream",
     "text": [
      "/orcd/data/omarabu/001/gokul/counting_flows/data\n"
     ]
    }
   ],
   "source": [
    "!pwd"
   ]
  },
  {
   "cell_type": "code",
   "execution_count": 3,
   "id": "4b8d0758",
   "metadata": {},
   "outputs": [],
   "source": [
    "from exprbyseq import scExprBySeq\n",
    "# from exprbyseq_optimized import scExprBySeqOptimized\n",
    "# from exprbyseq_vectorized import scExprBySeqVectorized"
   ]
  },
  {
   "cell_type": "code",
   "execution_count": 6,
   "id": "38a5dea0",
   "metadata": {},
   "outputs": [],
   "source": [
    "expr = scExprBySeq(\n",
    "    \"/orcd/data/omarabu/001/gokul/count_sequence/training_data/onek1k_training_data/snapatac_merged_minus.h5ad\",\n",
    "    \"/orcd/data/omarabu/001/gokul/count_sequence/training_data/scooby_training_data/genome_human.fa\"\n",
    ")\n",
    "# expr_opt = scExprBySeqOptimized(\n",
    "#     \"/orcd/data/omarabu/001/gokul/count_sequence/training_data/epicardioids_training_data/snapatac_matched_minus.h5ad\",\n",
    "#     \"/orcd/data/omarabu/001/gokul/count_sequence/training_data/scooby_training_data/genome_human.fa\"\n",
    "# )\n",
    "# expr_vec = scExprBySeqVectorized(\n",
    "#     \"/orcd/data/omarabu/001/gokul/count_sequence/training_data/epicardioids_training_data/snapatac_matched_minus.h5ad\",\n",
    "#     \"/orcd/data/omarabu/001/gokul/count_sequence/training_data/scooby_training_data/genome_human.fa\"\n",
    "# )\n"
   ]
  },
  {
   "cell_type": "code",
   "execution_count": 8,
   "id": "2ddc2fa7",
   "metadata": {},
   "outputs": [
    {
     "name": "stdout",
     "output_type": "stream",
     "text": [
      "i have this many cells:  1267768\n",
      "this is how many bases in the genome:  3088269832.0\n"
     ]
    }
   ],
   "source": [
    "print('i have this many cells: ', expr.n_cells)\n",
    "print('this is how many bases in the genome: ', expr.max_nt)\n",
    "\n",
    "# print('i have this many cells: ', expr_opt.n_cells)\n",
    "# print('this is how many bases in the genome: ', expr_opt.max_nt)"
   ]
  },
  {
   "cell_type": "code",
   "execution_count": 15,
   "id": "7688bc7c",
   "metadata": {},
   "outputs": [
    {
     "data": {
      "text/plain": [
       "['CD4 ET',\n",
       " 'NK',\n",
       " 'CD4 NC',\n",
       " 'CD8 S100B',\n",
       " 'CD8 ET',\n",
       " 'B IN',\n",
       " 'CD8 NC',\n",
       " 'B Mem',\n",
       " 'NK R',\n",
       " 'Mono NC',\n",
       " 'Mono C',\n",
       " 'DC',\n",
       " 'Plasma',\n",
       " 'CD4 SOX4']"
      ]
     },
     "execution_count": 15,
     "metadata": {},
     "output_type": "execute_result"
    }
   ],
   "source": [
    "list(expr.sd.obs['cell_label'].unique())"
   ]
  },
  {
   "cell_type": "code",
   "execution_count": null,
   "id": "14c2e2fe",
   "metadata": {},
   "outputs": [],
   "source": [
    "# num params "
   ]
  },
  {
   "cell_type": "code",
   "execution_count": 43,
   "id": "f9bebfe9",
   "metadata": {},
   "outputs": [
    {
     "data": {
      "text/plain": [
       "torch.Size([1, 896, 3072])"
      ]
     },
     "execution_count": 43,
     "metadata": {},
     "output_type": "execute_result"
    }
   ],
   "source": [
    "import torch\n",
    "\n",
    "model(torch.from_numpy(seqs.astype(int)).unsqueeze(0).cuda(), return_only_embeddings=True).shape"
   ]
  },
  {
   "cell_type": "code",
   "execution_count": 19,
   "id": "dd1100b0",
   "metadata": {},
   "outputs": [],
   "source": [
    "vecs_vec, seqs = expr_vec.get_sparse(cell_idx=range(2000), window=(int(3e6), int(3e6+196_608)))\n"
   ]
  },
  {
   "cell_type": "code",
   "execution_count": 34,
   "id": "e38b2542",
   "metadata": {},
   "outputs": [
    {
     "data": {
      "text/plain": [
       "(196608,)"
      ]
     },
     "execution_count": 34,
     "metadata": {},
     "output_type": "execute_result"
    }
   ],
   "source": [
    "seqs.shape"
   ]
  },
  {
   "cell_type": "code",
   "execution_count": 8,
   "id": "711d56b0",
   "metadata": {},
   "outputs": [
    {
     "data": {
      "text/html": [
       "<div><style>\n",
       ".dataframe > thead > tr,\n",
       ".dataframe > tbody > tr {\n",
       "  text-align: right;\n",
       "  white-space: pre-wrap;\n",
       "}\n",
       "</style>\n",
       "<small>shape: (1, 2)</small><table border=\"1\" class=\"dataframe\"><thead><tr><th>clusters</th><th>count</th></tr><tr><td>cat</td><td>u32</td></tr></thead><tbody><tr><td>&quot;9&quot;</td><td>2796</td></tr></tbody></table></div>"
      ],
      "text/plain": [
       "shape: (1, 2)\n",
       "┌──────────┬───────┐\n",
       "│ clusters ┆ count │\n",
       "│ ---      ┆ ---   │\n",
       "│ cat      ┆ u32   │\n",
       "╞══════════╪═══════╡\n",
       "│ 9        ┆ 2796  │\n",
       "└──────────┴───────┘"
      ]
     },
     "execution_count": 8,
     "metadata": {},
     "output_type": "execute_result"
    }
   ],
   "source": [
    "expr_opt.sd.obs['clusters'].value_counts().max()"
   ]
  },
  {
   "cell_type": "code",
   "execution_count": 21,
   "id": "e3ab95dd",
   "metadata": {},
   "outputs": [],
   "source": [
    "import scipy.sparse as sp\n",
    "\n"
   ]
  },
  {
   "cell_type": "code",
   "execution_count": null,
   "id": "48838e53",
   "metadata": {},
   "outputs": [],
   "source": []
  }
 ],
 "metadata": {
  "kernelspec": {
   "display_name": "Python 3 (ipykernel)",
   "language": "python",
   "name": "python3"
  },
  "language_info": {
   "codemirror_mode": {
    "name": "ipython",
    "version": 3
   },
   "file_extension": ".py",
   "mimetype": "text/x-python",
   "name": "python",
   "nbconvert_exporter": "python",
   "pygments_lexer": "ipython3",
   "version": "3.13.5"
  }
 },
 "nbformat": 4,
 "nbformat_minor": 5
}
