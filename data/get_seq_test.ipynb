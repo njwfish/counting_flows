{
 "cells": [
  {
   "cell_type": "code",
   "execution_count": 1,
   "id": "4b8d0758",
   "metadata": {},
   "outputs": [],
   "source": [
    "from exprbyseq import scExprBySeq"
   ]
  },
  {
   "cell_type": "code",
   "execution_count": 8,
   "id": "38a5dea0",
   "metadata": {},
   "outputs": [],
   "source": [
    "expr = scExprBySeq(\n",
    "    \"/orcd/data/omarabu/001/gokul/count_sequence/training_data/epicardioids_training_data/snapatac_matched_minus.h5ad\",\n",
    "    \"/orcd/data/omarabu/001/gokul/count_sequence/training_data/scooby_training_data/genome_human.fa\"\n",
    ")"
   ]
  },
  {
   "cell_type": "code",
   "execution_count": 9,
   "id": "2ddc2fa7",
   "metadata": {},
   "outputs": [
    {
     "name": "stdout",
     "output_type": "stream",
     "text": [
      "i have this many cells:  30638\n",
      "this is how many bases in the genome:  3088286401.0\n"
     ]
    }
   ],
   "source": [
    "# how many cells ?\n",
    "# how many nucleotides?\n",
    "\n",
    "print('i have this many cells: ', expr.n_cells)\n",
    "print('this is how many bases in the genome: ', expr.max_nt)"
   ]
  },
  {
   "cell_type": "code",
   "execution_count": 10,
   "id": "ef3917d1",
   "metadata": {},
   "outputs": [],
   "source": [
    "vecs, seq = expr.get(cell_idx=range(2000), window=(int(3e6), int(3e6+2000)))\n",
    "\n",
    "# print(vecs)\n",
    "\n",
    "# print(seq)"
   ]
  },
  {
   "cell_type": "code",
   "execution_count": null,
   "id": "0ea38c62",
   "metadata": {},
   "outputs": [],
   "source": []
  }
 ],
 "metadata": {
  "kernelspec": {
   "display_name": "Python 3 (ipykernel)",
   "language": "python",
   "name": "python3"
  },
  "language_info": {
   "codemirror_mode": {
    "name": "ipython",
    "version": 3
   },
   "file_extension": ".py",
   "mimetype": "text/x-python",
   "name": "python",
   "nbconvert_exporter": "python",
   "pygments_lexer": "ipython3",
   "version": "3.13.5"
  }
 },
 "nbformat": 4,
 "nbformat_minor": 5
}
