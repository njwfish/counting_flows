{
 "cells": [
  {
   "cell_type": "code",
   "execution_count": 14,
   "id": "ea0c80ce",
   "metadata": {},
   "outputs": [],
   "source": [
    "import numpy as np\n",
    "import pickle as pkl\n",
    "import torch\n"
   ]
  },
  {
   "cell_type": "code",
   "execution_count": 15,
   "id": "fe6380f1",
   "metadata": {},
   "outputs": [],
   "source": [
    "s1 = np.load('/orcd/data/omarabu/001/tanush20/data/MERFISH/S1R1.npz', allow_pickle=True)\n",
    "with open('/orcd/data/omarabu/001/njwfish/counting_flows/results/merfish/x_0_generated.pkl', 'rb') as f:\n",
    "    predicted_counts = pkl.load(f)\n",
    "combined_predicted_counts = torch.vstack(predicted_counts)"
   ]
  },
  {
   "cell_type": "code",
   "execution_count": 16,
   "id": "10c84287",
   "metadata": {},
   "outputs": [
    {
     "name": "stdout",
     "output_type": "stream",
     "text": [
      "Converting predicted counts to s1 format...\n",
      "Created 4358 spots\n",
      "Total cells: 73613\n",
      "Combined predicted counts shape: torch.Size([157669, 649])\n",
      "\n",
      "Verification:\n",
      "Original spots[0]: [30684 30690 30692 30693 30698]... (length: 5)\n",
      "New spots[0]: [0 1 2 3 4]... (length: 5)\n",
      "Original spots[1]: [30683 30688 30694 30697 30699]... (length: 11)\n",
      "New spots[1]: [5 6 7 8 9]... (length: 11)\n"
     ]
    }
   ],
   "source": [
    "# Convert predicted counts to s1 format\n",
    "print(\"Converting predicted counts to s1 format...\")\n",
    "\n",
    "# Get the original spots structure from s1\n",
    "imgs = s1['imgs'][:]\n",
    "original_spots = s1['spots']\n",
    "n_spots = len(original_spots)\n",
    "\n",
    "# Create new spots array with consecutive indices\n",
    "new_spots = []\n",
    "current_index = 0\n",
    "cells_to_remove = []\n",
    "total_cells = 0\n",
    "for i in range(n_spots):\n",
    "    # Get number of cells in this spot from original data\n",
    "    num_cells_in_spot = 0\n",
    "    for cell in original_spots[i]:\n",
    "        if max(imgs[cell].shape)>256:\n",
    "            cells_to_remove.append(cell)\n",
    "        else:\n",
    "            num_cells_in_spot += 1\n",
    "    total_cells += num_cells_in_spot\n",
    "            \n",
    "    # Create array of consecutive indices for this spot\n",
    "    spot_indices = np.arange(current_index, current_index + num_cells_in_spot)\n",
    "    new_spots.append(spot_indices)\n",
    "    \n",
    "    # Update current index for next spot\n",
    "    current_index += num_cells_in_spot\n",
    "\n",
    "print(f\"Created {len(new_spots)} spots\")\n",
    "print(f\"Total cells: {current_index}\")\n",
    "print(f\"Combined predicted counts shape: {combined_predicted_counts.shape}\")\n",
    "\n",
    "# Verify the conversion\n",
    "print(\"\\nVerification:\")\n",
    "print(f\"Original spots[0]: {original_spots[0][:5]}... (length: {len(original_spots[0])})\")\n",
    "print(f\"New spots[0]: {new_spots[0][:5]}... (length: {len(new_spots[0])})\")\n",
    "print(f\"Original spots[1]: {original_spots[1][:5]}... (length: {len(original_spots[1])})\")\n",
    "print(f\"New spots[1]: {new_spots[1][:5]}... (length: {len(new_spots[1])})\")\n"
   ]
  },
  {
   "cell_type": "code",
   "execution_count": 17,
   "id": "c493ef0e",
   "metadata": {},
   "outputs": [
    {
     "name": "stdout",
     "output_type": "stream",
     "text": [
      "Created predicted_s1_format with keys: ['predicted_counts', 'spots', 'imgs', 'x_um', 'y_um']\n",
      "Counts shape: (73613, 649)\n",
      "Number of spots: 4358\n"
     ]
    }
   ],
   "source": [
    "# Convert torch tensor to numpy if needed\n",
    "if isinstance(combined_predicted_counts, torch.Tensor):\n",
    "    combined_predicted_counts_np = combined_predicted_counts.cpu().numpy()\n",
    "else:\n",
    "    combined_predicted_counts_np = combined_predicted_counts\n",
    "combined_predicted_counts_np = combined_predicted_counts_np[:total_cells]\n",
    "# Create the new data structure in s1 format\n",
    "predicted_s1_format = {\n",
    "    'predicted_counts': combined_predicted_counts_np,  # Combined counts matrix\n",
    "    'spots': new_spots,  # List of arrays with cell indices for each spot\n",
    "    'imgs': s1['imgs'],  # Copy other fields from original s1\n",
    "    'x_um': s1['x_um'],\n",
    "    'y_um': s1['y_um']\n",
    "}\n",
    "\n",
    "print(\"Created predicted_s1_format with keys:\", list(predicted_s1_format.keys()))\n",
    "print(f\"Counts shape: {predicted_s1_format['predicted_counts'].shape}\")\n",
    "print(f\"Number of spots: {len(predicted_s1_format['spots'])}\")\n"
   ]
  },
  {
   "cell_type": "code",
   "execution_count": 20,
   "id": "3321497c",
   "metadata": {},
   "outputs": [],
   "source": [
    "new_spots = np.array(new_spots, dtype=object)\n",
    "\n",
    "np.savez(\"/orcd/data/omarabu/001/tanush20/data/MERFISH/S1R1_predicted_counts_2.npz\",\n",
    "        spots = new_spots,\n",
    "        counts = predicted_s1_format['predicted_counts'])"
   ]
  },
  {
   "cell_type": "code",
   "execution_count": 22,
   "id": "1a871cc8",
   "metadata": {},
   "outputs": [
    {
     "name": "stdout",
     "output_type": "stream",
     "text": [
      "Loading datasets for evaluation...\n",
      "True data keys: ['imgs', 'counts', 'spots', 'x_um', 'y_um', 'annotations', 'visium_simulated', 'cell_type_counts', 'n_cells']\n",
      "Predicted data keys: ['spots', 'counts']\n",
      "True counts shape: (78329, 649)\n",
      "Predicted counts shape: (73613, 649)\n",
      "Number of spots: 4358\n"
     ]
    }
   ],
   "source": [
    "# Load both datasets for evaluation\n",
    "print(\"Loading datasets for evaluation...\")\n",
    "true_data = np.load('/orcd/data/omarabu/001/tanush20/data/MERFISH/S1R1.npz', allow_pickle=True)\n",
    "predicted_data = np.load('/orcd/data/omarabu/001/tanush20/data/MERFISH/S1R1_predicted_counts_2.npz', allow_pickle=True)\n",
    "\n",
    "print(f\"True data keys: {list(true_data.keys())}\")\n",
    "print(f\"Predicted data keys: {list(predicted_data.keys())}\")\n",
    "print(f\"True counts shape: {true_data['counts'].shape}\")\n",
    "print(f\"Predicted counts shape: {predicted_data['counts'].shape}\")\n",
    "print(f\"Number of spots: {len(true_data['spots'])}\")\n"
   ]
  },
  {
   "cell_type": "code",
   "execution_count": 25,
   "id": "889d6c96",
   "metadata": {},
   "outputs": [
    {
     "data": {
      "text/plain": [
       "4358"
      ]
     },
     "execution_count": 25,
     "metadata": {},
     "output_type": "execute_result"
    }
   ],
   "source": [
    "n_spots"
   ]
  },
  {
   "cell_type": "code",
   "execution_count": 28,
   "id": "0d6ced78",
   "metadata": {},
   "outputs": [
    {
     "name": "stdout",
     "output_type": "stream",
     "text": [
      "Starting evaluation...\n",
      "Evaluating 4358 spots...\n",
      "Processing spot 0/4358\n",
      "Processing spot 500/4358\n",
      "Processing spot 1000/4358\n",
      "Processing spot 1500/4358\n",
      "Processing spot 2000/4358\n",
      "Processing spot 2500/4358\n",
      "Processing spot 3000/4358\n",
      "Processing spot 3500/4358\n",
      "Processing spot 4000/4358\n"
     ]
    }
   ],
   "source": [
    "# Evaluation function\n",
    "def evaluate_predictions(true_data, predicted_data, imgs, max_img_size=256):\n",
    "    \"\"\"\n",
    "    Evaluate predicted counts against true counts and spot means\n",
    "    \n",
    "    Args:\n",
    "        true_data: npz file with true data\n",
    "        predicted_data: npz file with predicted data\n",
    "        max_img_size: maximum image size to consider (default 256)\n",
    "    \n",
    "    Returns:\n",
    "        dict with MSE results\n",
    "    \"\"\"\n",
    "    true_counts = true_data['counts']\n",
    "    predicted_counts = predicted_data['counts']\n",
    "    true_spots = true_data['spots']\n",
    "    predicted_spots = predicted_data['spots']\n",
    "    \n",
    "    n_spots = len(true_spots)\n",
    "    \n",
    "    # Store MSE results for each spot\n",
    "    mse_predicted_vs_true = []\n",
    "    mse_predicted_vs_spot_mean = []\n",
    "    mse_true_vs_spot_mean = []\n",
    "    valid_spots = 0\n",
    "    \n",
    "    print(f\"Evaluating {n_spots} spots...\")\n",
    "    \n",
    "    for spot_idx in range(n_spots):\n",
    "        if spot_idx % 500 == 0:\n",
    "            print(f\"Processing spot {spot_idx}/{n_spots}\")\n",
    "        \n",
    "        # Get cell indices for this spot\n",
    "        true_cell_indices = np.array(true_spots[spot_idx]).astype(int)\n",
    "        predicted_cell_indices = np.array(predicted_spots[spot_idx]).astype(int)\n",
    "        \n",
    "        # Get counts for this spot\n",
    "        true_spot_counts = true_counts[true_cell_indices]\n",
    "        predicted_spot_counts = predicted_counts[predicted_cell_indices]\n",
    "        \n",
    "        # Filter cells based on image size (only for true data since predicted is already filtered)\n",
    "        valid_cells = []\n",
    "        for i,cell_idx in enumerate(true_cell_indices):\n",
    "            cell_img = imgs[cell_idx]\n",
    "            if max(cell_img.shape) <= 256:  # Fixed: should be <= not >\n",
    "                valid_cells.append(i)\n",
    "        if len(valid_cells) == 0:\n",
    "            continue  # Skip spots with no valid cells\n",
    "        \n",
    "        # Filter true counts to only valid cells (predicted is already filtered)\n",
    "        true_spot_counts_valid = true_spot_counts[valid_cells]\n",
    "        predicted_spot_counts_valid = predicted_spot_counts  # Already filtered\n",
    "        \n",
    "        # Calculate spot mean from true counts (filtered)\n",
    "        spot_mean = np.mean(true_spot_counts_valid, axis=0)\n",
    "        \n",
    "        # Calculate MSE: predicted vs true\n",
    "        mse_pred_true = np.mean((predicted_spot_counts_valid - true_spot_counts_valid) ** 2)\n",
    "        mse_predicted_vs_true.append(mse_pred_true)\n",
    "        \n",
    "        # Calculate MSE: predicted vs spot mean\n",
    "        mse_pred_mean = np.mean((predicted_spot_counts_valid - spot_mean) ** 2)\n",
    "        mse_predicted_vs_spot_mean.append(mse_pred_mean)\n",
    "        \n",
    "        # Calculate MSE: true vs spot mean\n",
    "        mse_true_mean = np.mean((true_spot_counts_valid - spot_mean) ** 2)\n",
    "        mse_true_vs_spot_mean.append(mse_true_mean)\n",
    "        \n",
    "        valid_spots += 1\n",
    "    \n",
    "    # Calculate overall MSEs\n",
    "    overall_mse_predicted_vs_true = np.mean(mse_predicted_vs_true)\n",
    "    overall_mse_predicted_vs_spot_mean = np.mean(mse_predicted_vs_spot_mean)\n",
    "    overall_mse_true_vs_spot_mean = np.mean(mse_true_vs_spot_mean)\n",
    "    \n",
    "    results = {\n",
    "        'overall_mse_predicted_vs_true': overall_mse_predicted_vs_true,\n",
    "        'overall_mse_predicted_vs_spot_mean': overall_mse_predicted_vs_spot_mean,\n",
    "        'overall_mse_true_vs_spot_mean': overall_mse_true_vs_spot_mean,\n",
    "        'spot_mse_predicted_vs_true': mse_predicted_vs_true,\n",
    "        'spot_mse_predicted_vs_spot_mean': mse_predicted_vs_spot_mean,\n",
    "        'spot_mse_true_vs_spot_mean': mse_true_vs_spot_mean,\n",
    "        'valid_spots': valid_spots,\n",
    "        'total_spots': n_spots\n",
    "    }\n",
    "    \n",
    "    return results\n",
    "\n",
    "# Run evaluation\n",
    "print(\"Starting evaluation...\")\n",
    "results = evaluate_predictions(true_data, predicted_data, imgs, max_img_size=256)\n"
   ]
  },
  {
   "cell_type": "code",
   "execution_count": 29,
   "id": "b6198ec1",
   "metadata": {},
   "outputs": [
    {
     "name": "stdout",
     "output_type": "stream",
     "text": [
      "======================================================================\n",
      "EVALUATION RESULTS\n",
      "======================================================================\n",
      "Total spots processed: 4358\n",
      "Valid spots (with cells ≤256px): 4358\n",
      "Valid spots percentage: 100.0%\n",
      "\n",
      "OVERALL MSE COMPARISON:\n",
      "MSE (Predicted vs True):        12.068824\n",
      "MSE (Predicted vs Spot Mean):   1.995875\n",
      "MSE (True vs Spot Mean):        9.996818\n",
      "\n",
      "PERFORMANCE COMPARISON:\n",
      "1. Predicted vs Spot Mean:\n",
      "   ✅ Predictions are BETTER than true counts by 80.0%\n",
      "2. Predicted vs True:\n",
      "   ❌ Predictions are WORSE than spot mean by 20.7%\n",
      "\n",
      "DETAILED STATISTICS:\n",
      "Predicted vs True MSE - Mean:     12.068824\n",
      "Predicted vs True MSE - Std:      8.758031\n",
      "Predicted vs Spot Mean MSE - Mean: 1.995875\n",
      "Predicted vs Spot Mean MSE - Std:  3.964895\n",
      "True vs Spot Mean MSE - Mean:     9.996818\n",
      "True vs Spot Mean MSE - Std:      6.221804\n"
     ]
    }
   ],
   "source": [
    "# Display results\n",
    "print(\"=\"*70)\n",
    "print(\"EVALUATION RESULTS\")\n",
    "print(\"=\"*70)\n",
    "print(f\"Total spots processed: {results['total_spots']}\")\n",
    "print(f\"Valid spots (with cells ≤256px): {results['valid_spots']}\")\n",
    "print(f\"Valid spots percentage: {results['valid_spots']/results['total_spots']*100:.1f}%\")\n",
    "print()\n",
    "print(\"OVERALL MSE COMPARISON:\")\n",
    "print(f\"MSE (Predicted vs True):        {results['overall_mse_predicted_vs_true']:.6f}\")\n",
    "print(f\"MSE (Predicted vs Spot Mean):   {results['overall_mse_predicted_vs_spot_mean']:.6f}\")\n",
    "print(f\"MSE (True vs Spot Mean):        {results['overall_mse_true_vs_spot_mean']:.6f}\")\n",
    "print()\n",
    "print(\"PERFORMANCE COMPARISON:\")\n",
    "print(\"1. Predicted vs Spot Mean:\")\n",
    "if results['overall_mse_predicted_vs_spot_mean'] < results['overall_mse_true_vs_spot_mean']:\n",
    "    improvement = (results['overall_mse_true_vs_spot_mean'] - results['overall_mse_predicted_vs_spot_mean']) / results['overall_mse_true_vs_spot_mean'] * 100\n",
    "    print(f\"   ✅ Predictions are BETTER than true counts by {improvement:.1f}%\")\n",
    "else:\n",
    "    degradation = (results['overall_mse_predicted_vs_spot_mean'] - results['overall_mse_true_vs_spot_mean']) / results['overall_mse_true_vs_spot_mean'] * 100\n",
    "    print(f\"   ❌ Predictions are WORSE than true counts by {degradation:.1f}%\")\n",
    "\n",
    "print(\"2. Predicted vs True:\")\n",
    "if results['overall_mse_predicted_vs_true'] < results['overall_mse_true_vs_spot_mean']:\n",
    "    improvement = (results['overall_mse_true_vs_spot_mean'] - results['overall_mse_predicted_vs_true']) / results['overall_mse_true_vs_spot_mean'] * 100\n",
    "    print(f\"   ✅ Predictions are BETTER than spot mean by {improvement:.1f}%\")\n",
    "else:\n",
    "    degradation = (results['overall_mse_predicted_vs_true'] - results['overall_mse_true_vs_spot_mean']) / results['overall_mse_true_vs_spot_mean'] * 100\n",
    "    print(f\"   ❌ Predictions are WORSE than spot mean by {degradation:.1f}%\")\n",
    "\n",
    "print()\n",
    "print(\"DETAILED STATISTICS:\")\n",
    "print(f\"Predicted vs True MSE - Mean:     {np.mean(results['spot_mse_predicted_vs_true']):.6f}\")\n",
    "print(f\"Predicted vs True MSE - Std:      {np.std(results['spot_mse_predicted_vs_true']):.6f}\")\n",
    "print(f\"Predicted vs Spot Mean MSE - Mean: {np.mean(results['spot_mse_predicted_vs_spot_mean']):.6f}\")\n",
    "print(f\"Predicted vs Spot Mean MSE - Std:  {np.std(results['spot_mse_predicted_vs_spot_mean']):.6f}\")\n",
    "print(f\"True vs Spot Mean MSE - Mean:     {np.mean(results['spot_mse_true_vs_spot_mean']):.6f}\")\n",
    "print(f\"True vs Spot Mean MSE - Std:      {np.std(results['spot_mse_true_vs_spot_mean']):.6f}\")\n"
   ]
  }
 ],
 "metadata": {
  "kernelspec": {
   "display_name": "Cell types 3",
   "language": "python",
   "name": "cell-types-3"
  },
  "language_info": {
   "codemirror_mode": {
    "name": "ipython",
    "version": 3
   },
   "file_extension": ".py",
   "mimetype": "text/x-python",
   "name": "python",
   "nbconvert_exporter": "python",
   "pygments_lexer": "ipython3",
   "version": "3.10.16"
  }
 },
 "nbformat": 4,
 "nbformat_minor": 5
}
